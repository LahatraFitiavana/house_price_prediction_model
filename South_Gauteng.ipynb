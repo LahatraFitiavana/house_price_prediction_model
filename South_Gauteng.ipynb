{
 "cells": [
  {
   "cell_type": "markdown",
   "metadata": {},
   "source": [
    "# Groupe M1 Machine Learbing:\n",
    "### HARENA Antenaina Lucka\n",
    "### HARINASANDRATRA Lahatra Fitiavana\n",
    "### RABEASY Angelo\n",
    "### RAFIDY Julie Tassia"
   ]
  },
  {
   "cell_type": "markdown",
   "metadata": {},
   "source": [
    "# Data cleaning"
   ]
  },
  {
   "cell_type": "code",
   "execution_count": 1,
   "metadata": {},
   "outputs": [],
   "source": [
    "import pandas as pd\n",
    "import numpy as np\n",
    "import matplotlib.pyplot as plt\n",
    "import joblib \n",
    "import csv\n",
    "import math"
   ]
  },
  {
   "cell_type": "code",
   "execution_count": 2,
   "metadata": {},
   "outputs": [],
   "source": [
    "np.random.seed(42)"
   ]
  },
  {
   "cell_type": "markdown",
   "metadata": {},
   "source": [
    "### Getting the data"
   ]
  },
  {
   "cell_type": "code",
   "execution_count": 3,
   "metadata": {},
   "outputs": [],
   "source": [
    "#read the input data file\n",
    "dataframe=pd.read_csv(\"johannesburg.csv\")\n",
    "\n",
    "pd.set_option('max_row',100)\n",
    "pd.set_option('max_column',dataframe.shape[1])\n",
    "\n",
    "#dataframe.columns = [\"Listing number\",\"Type of Property\",\"Street Address\",\"Erf Size\",\"Floor Size\",\"No Transfer Duty\",\"Rates and Taxes\",\"Age\",\"Pets Allowed\",\"Bedrooms\",\"Bathrooms\",\"Kitchens\",\"Garage\",\"Parking\",\"Garden\",\"Pool\",\"Internet Access\",\"Price\"]"
   ]
  },
  {
   "cell_type": "code",
   "execution_count": 4,
   "metadata": {},
   "outputs": [
    {
     "data": {
      "text/html": [
       "<div>\n",
       "<style scoped>\n",
       "    .dataframe tbody tr th:only-of-type {\n",
       "        vertical-align: middle;\n",
       "    }\n",
       "\n",
       "    .dataframe tbody tr th {\n",
       "        vertical-align: top;\n",
       "    }\n",
       "\n",
       "    .dataframe thead th {\n",
       "        text-align: right;\n",
       "    }\n",
       "</style>\n",
       "<table border=\"1\" class=\"dataframe\">\n",
       "  <thead>\n",
       "    <tr style=\"text-align: right;\">\n",
       "      <th></th>\n",
       "      <th>Unnamed: 0</th>\n",
       "      <th>listing_number</th>\n",
       "      <th>type_of_property</th>\n",
       "      <th>street_address</th>\n",
       "      <th>erf_size</th>\n",
       "      <th>floor_size</th>\n",
       "      <th>no_transfer_duty</th>\n",
       "      <th>rates_and_taxes</th>\n",
       "      <th>age</th>\n",
       "      <th>pets_allowed</th>\n",
       "      <th>bedrooms</th>\n",
       "      <th>bathrooms</th>\n",
       "      <th>kitchens</th>\n",
       "      <th>garage</th>\n",
       "      <th>parking</th>\n",
       "      <th>garden</th>\n",
       "      <th>pool</th>\n",
       "      <th>internet_access</th>\n",
       "      <th>price</th>\n",
       "      <th>location</th>\n",
       "      <th>latitude</th>\n",
       "      <th>longitude</th>\n",
       "    </tr>\n",
       "  </thead>\n",
       "  <tbody>\n",
       "    <tr>\n",
       "      <th>0</th>\n",
       "      <td>0</td>\n",
       "      <td>110066745</td>\n",
       "      <td>House</td>\n",
       "      <td>Waterkloof Ridge</td>\n",
       "      <td>NaN</td>\n",
       "      <td>NaN</td>\n",
       "      <td>Yes</td>\n",
       "      <td>NaN</td>\n",
       "      <td>1.0</td>\n",
       "      <td>Yes</td>\n",
       "      <td>3.0</td>\n",
       "      <td>2.0</td>\n",
       "      <td>1.0</td>\n",
       "      <td>2</td>\n",
       "      <td>NaN</td>\n",
       "      <td>NaN</td>\n",
       "      <td>NaN</td>\n",
       "      <td>Fibre</td>\n",
       "      <td>3900000.0</td>\n",
       "      <td>Waterkloof Ridge,Gauteng,Johannesburg</td>\n",
       "      <td>-26.045632</td>\n",
       "      <td>28.00856</td>\n",
       "    </tr>\n",
       "    <tr>\n",
       "      <th>1</th>\n",
       "      <td>1</td>\n",
       "      <td>110962633</td>\n",
       "      <td>House</td>\n",
       "      <td>Mondeor</td>\n",
       "      <td>NaN</td>\n",
       "      <td>51 m²</td>\n",
       "      <td>Yes</td>\n",
       "      <td>R 750</td>\n",
       "      <td>NaN</td>\n",
       "      <td>No</td>\n",
       "      <td>2.0</td>\n",
       "      <td>NaN</td>\n",
       "      <td>NaN</td>\n",
       "      <td>NaN</td>\n",
       "      <td>Secure Parking</td>\n",
       "      <td>NaN</td>\n",
       "      <td>NaN</td>\n",
       "      <td>Fibre</td>\n",
       "      <td>665000.0</td>\n",
       "      <td>Mondeor,Gauteng,Johannesburg</td>\n",
       "      <td>-26.276790</td>\n",
       "      <td>28.00635</td>\n",
       "    </tr>\n",
       "    <tr>\n",
       "      <th>2</th>\n",
       "      <td>2</td>\n",
       "      <td>110686036</td>\n",
       "      <td>House</td>\n",
       "      <td>Waverley</td>\n",
       "      <td>1 447 m²</td>\n",
       "      <td>421 m²</td>\n",
       "      <td>NaN</td>\n",
       "      <td>R 2 147</td>\n",
       "      <td>NaN</td>\n",
       "      <td>Yes</td>\n",
       "      <td>4.0</td>\n",
       "      <td>3.0</td>\n",
       "      <td>NaN</td>\n",
       "      <td>2</td>\n",
       "      <td>2</td>\n",
       "      <td>Yes</td>\n",
       "      <td>Yes</td>\n",
       "      <td>Fibre</td>\n",
       "      <td>5399000.0</td>\n",
       "      <td>Waverley,Gauteng,Johannesburg</td>\n",
       "      <td>-26.137170</td>\n",
       "      <td>28.07654</td>\n",
       "    </tr>\n",
       "    <tr>\n",
       "      <th>3</th>\n",
       "      <td>3</td>\n",
       "      <td>110962127</td>\n",
       "      <td>House</td>\n",
       "      <td>Cyrildene</td>\n",
       "      <td>1 205 m²</td>\n",
       "      <td>385 m²</td>\n",
       "      <td>NaN</td>\n",
       "      <td>NaN</td>\n",
       "      <td>NaN</td>\n",
       "      <td>Yes</td>\n",
       "      <td>4.0</td>\n",
       "      <td>5.0</td>\n",
       "      <td>NaN</td>\n",
       "      <td>1</td>\n",
       "      <td>NaN</td>\n",
       "      <td>Yes</td>\n",
       "      <td>Yes</td>\n",
       "      <td>NaN</td>\n",
       "      <td>3300000.0</td>\n",
       "      <td>Cyrildene,Gauteng,Johannesburg</td>\n",
       "      <td>-26.179020</td>\n",
       "      <td>28.10000</td>\n",
       "    </tr>\n",
       "    <tr>\n",
       "      <th>4</th>\n",
       "      <td>4</td>\n",
       "      <td>110549431</td>\n",
       "      <td>House</td>\n",
       "      <td>Sophiatown</td>\n",
       "      <td>545 m²</td>\n",
       "      <td>NaN</td>\n",
       "      <td>NaN</td>\n",
       "      <td>NaN</td>\n",
       "      <td>NaN</td>\n",
       "      <td>Yes</td>\n",
       "      <td>3.0</td>\n",
       "      <td>3.0</td>\n",
       "      <td>1.0</td>\n",
       "      <td>NaN</td>\n",
       "      <td>4</td>\n",
       "      <td>Yes</td>\n",
       "      <td>NaN</td>\n",
       "      <td>NaN</td>\n",
       "      <td>1295000.0</td>\n",
       "      <td>Sophiatown,Gauteng,Johannesburg</td>\n",
       "      <td>-26.173830</td>\n",
       "      <td>27.97934</td>\n",
       "    </tr>\n",
       "  </tbody>\n",
       "</table>\n",
       "</div>"
      ],
      "text/plain": [
       "   Unnamed: 0  listing_number type_of_property    street_address  erf_size  \\\n",
       "0           0       110066745            House  Waterkloof Ridge       NaN   \n",
       "1           1       110962633            House           Mondeor       NaN   \n",
       "2           2       110686036            House          Waverley  1 447 m²   \n",
       "3           3       110962127            House         Cyrildene  1 205 m²   \n",
       "4           4       110549431            House        Sophiatown    545 m²   \n",
       "\n",
       "  floor_size no_transfer_duty rates_and_taxes  age pets_allowed  bedrooms  \\\n",
       "0        NaN              Yes             NaN  1.0          Yes       3.0   \n",
       "1      51 m²              Yes           R 750  NaN           No       2.0   \n",
       "2     421 m²              NaN         R 2 147  NaN          Yes       4.0   \n",
       "3     385 m²              NaN             NaN  NaN          Yes       4.0   \n",
       "4        NaN              NaN             NaN  NaN          Yes       3.0   \n",
       "\n",
       "   bathrooms  kitchens garage         parking garden pool internet_access  \\\n",
       "0        2.0       1.0      2             NaN    NaN  NaN           Fibre   \n",
       "1        NaN       NaN    NaN  Secure Parking    NaN  NaN           Fibre   \n",
       "2        3.0       NaN      2               2    Yes  Yes           Fibre   \n",
       "3        5.0       NaN      1             NaN    Yes  Yes             NaN   \n",
       "4        3.0       1.0    NaN               4    Yes  NaN             NaN   \n",
       "\n",
       "       price                               location   latitude  longitude  \n",
       "0  3900000.0  Waterkloof Ridge,Gauteng,Johannesburg -26.045632   28.00856  \n",
       "1   665000.0           Mondeor,Gauteng,Johannesburg -26.276790   28.00635  \n",
       "2  5399000.0          Waverley,Gauteng,Johannesburg -26.137170   28.07654  \n",
       "3  3300000.0         Cyrildene,Gauteng,Johannesburg -26.179020   28.10000  \n",
       "4  1295000.0        Sophiatown,Gauteng,Johannesburg -26.173830   27.97934  "
      ]
     },
     "execution_count": 4,
     "metadata": {},
     "output_type": "execute_result"
    }
   ],
   "source": [
    "dataframe.head()"
   ]
  },
  {
   "cell_type": "code",
   "execution_count": 5,
   "metadata": {},
   "outputs": [
    {
     "data": {
      "text/plain": [
       "array(['2', nan, '1', '6', 'Covered', ' ', 'Single', 'Garage', '3', '4',\n",
       "       'Double, Electric Door', 'Double, Roll up, Covered',\n",
       "       'Double, Electric Door, Covered', 'Double, Roll up, Tandem',\n",
       "       'Double', '5', '3 Car parking', 'Double, Workshop',\n",
       "       '3 to 4 vehicles', 'Electric Door, Tandem', 'Roll up, Single',\n",
       "       'Electric Door', 'Roll up', 'Single, Tip up, Covered',\n",
       "       'Electric Door, Single', 'Roll up, Single, Covered',\n",
       "       'Electric Door, Single, Covered', 'Lockup garage carport.',\n",
       "       'Double garage ', 'Double, Electric Door, Roll up',\n",
       "       'Carport with lockable garage.', '8', 'Double, Roll up',\n",
       "       'Roll up, Tandem', '10', '7', 'Single, Covered',\n",
       "       'can fit up to 4 cars. ', 'Tandem', 'Exposed', '9',\n",
       "       'Double, Electric Door, Roll up, Covered',\n",
       "       'It has built-in units for storage', 'fits 4 cars',\n",
       "       '0.0 Garage(s), Covered parking', '12', 'Double, Covered',\n",
       "       'Electric Door, Roll up, Covered', 'tiled with shelving ',\n",
       "       'Garage for 6 cars', '2.5', '3.5', 'Electric Door, Covered',\n",
       "       'Hollywood Garage', 'Single, Tip up', '15', 'Double, Tip up',\n",
       "       'Dbl automated', 'Single lock up, and add carport next to it',\n",
       "       'Single garage plus Hollywood styled lock up garage.',\n",
       "       'Single Entrance / Double parking',\n",
       "       'Electric Door, Tandem, Hollywood Garage', 'Roll up, Covered',\n",
       "       'Double, Exposed', 'Closed', 'lock up', '111',\n",
       "       'garage parking for 4 cars', '20',\n",
       "       'Electric Door, Roll up, Single, Covered, Hollywood Garage',\n",
       "       'Parking is underneath the building', 'SINGLE LOCK UP GARAGE',\n",
       "       'Basement Parking', 'Lock up garaging.', 'Tip up',\n",
       "       'Electric Door, Roll up', 'Basement parking',\n",
       "       'Electric Door, Single, Hollywood Garage',\n",
       "       '0.0 Garage(s), THERE ARE NO GARAGES', '0.5',\n",
       "       '0.0 Garage(s), parking space', 'Double, Single, Exposed',\n",
       "       'Electric Door, Single, Workshop', 'Lock up',\n",
       "       'Drive through garage to additional carport (or patio area) all fully tiled.'],\n",
       "      dtype=object)"
      ]
     },
     "execution_count": 5,
     "metadata": {},
     "output_type": "execute_result"
    }
   ],
   "source": [
    "dataframe['garage'].unique()"
   ]
  },
  {
   "cell_type": "code",
   "execution_count": 6,
   "metadata": {},
   "outputs": [],
   "source": [
    "dataframe = dataframe.drop('Unnamed: 0',axis=1)"
   ]
  },
  {
   "cell_type": "code",
   "execution_count": 7,
   "metadata": {},
   "outputs": [
    {
     "data": {
      "text/plain": [
       "array(['Yes', nan], dtype=object)"
      ]
     },
     "execution_count": 7,
     "metadata": {},
     "output_type": "execute_result"
    }
   ],
   "source": [
    "dataframe['no_transfer_duty'].unique()"
   ]
  },
  {
   "cell_type": "code",
   "execution_count": 8,
   "metadata": {},
   "outputs": [],
   "source": [
    "dataframe_cleaned = pd.DataFrame()"
   ]
  },
  {
   "cell_type": "code",
   "execution_count": 9,
   "metadata": {},
   "outputs": [],
   "source": [
    "#Remplace les caractéres qui se trouve dans char[] par un vide\n",
    "def replace_in_dataframe(df, column, char):\n",
    "    df[column] = df[column].str.replace(char[0], '') \n",
    "    df[column] = df[column].str.replace(char[1], '')\n",
    "    change_row_to_numerical(df,column)\n",
    "    \n",
    "def write_to_csv(csv_filename, df):\n",
    "    df.to_csv(csv_filename,index = False)\n",
    "    \n",
    "def change_row_to_numerical(df, column):\n",
    "    df[column] = pd.to_numeric(df[column],errors='coerce')\n",
    "    \n",
    "def get_erf_floor_size(size):\n",
    "    ''' This function will get the available surface area of the product with either the erf size or the floor size '''\n",
    "    try:\n",
    "        if type(size)==float:\n",
    "            return size\n",
    "        else:\n",
    "            if size.split()[-1]!='m²':\n",
    "                if size.split()[-1]=='ha':\n",
    "                    size=size.split()\n",
    "                    del size[-1]\n",
    "                    new_size=float(\"\".join(size))\n",
    "                    new_size=new_size*100000   # converting acres to square meter\n",
    "                else:\n",
    "                    size=size.split()\n",
    "                    del size[-1]\n",
    "                    new_size=float(\"\".join(size))\n",
    "                    new_size=new_size*4046.856\n",
    "                return new_size\n",
    "            else:\n",
    "                size=size.split()\n",
    "                del size[-1]\n",
    "                new_size=float(\"\".join(size))\n",
    "                return new_size\n",
    "    except:\n",
    "        return np.nan\n",
    "\n",
    "def parse_price(str_price):\n",
    "    ''' Function that parse the price in string with currency to an integer'''\n",
    "    if type(str_price)==float:\n",
    "        return str_price\n",
    "    else:\n",
    "        p=str_price.strip()\n",
    "        p=str_price[1:].replace(\" \",\"\")\n",
    "        try:\n",
    "            return float(p)\n",
    "        except:\n",
    "            return np.nan"
   ]
  },
  {
   "cell_type": "markdown",
   "metadata": {},
   "source": [
    "### Traitement des colonnes : Floor Size, Rates and Taxes"
   ]
  },
  {
   "cell_type": "code",
   "execution_count": 10,
   "metadata": {},
   "outputs": [],
   "source": [
    "for i in range(dataframe.shape[0]):\n",
    "    get_erf_floor_size(dataframe['erf_size'][i])\n",
    "    \n",
    "for i in range(dataframe.shape[0]):\n",
    "    get_erf_floor_size(dataframe['floor_size'][i])"
   ]
  },
  {
   "cell_type": "code",
   "execution_count": 11,
   "metadata": {},
   "outputs": [],
   "source": [
    "replace_in_dataframe(dataframe, 'floor_size', ['m²',' '])\n",
    "replace_in_dataframe(dataframe, 'erf_size', ['m²',' '])\n",
    "replace_in_dataframe(dataframe, 'rates_and_taxes', ['R',' '])"
   ]
  },
  {
   "cell_type": "code",
   "execution_count": 12,
   "metadata": {},
   "outputs": [],
   "source": [
    "dataframe_cleaned['price'] = dataframe['price'] \n",
    "\n",
    "dataframe_cleaned['erf_size'] = dataframe['erf_size']\n",
    "\n",
    "dataframe_cleaned['floor_size'] = dataframe['floor_size']\n",
    "\n",
    "dataframe_cleaned['rates_and_taxes'] = dataframe['rates_and_taxes']\n",
    "\n",
    "dataframe_cleaned['property_type'] = dataframe['type_of_property']"
   ]
  },
  {
   "cell_type": "code",
   "execution_count": 13,
   "metadata": {},
   "outputs": [
    {
     "data": {
      "text/html": [
       "<div>\n",
       "<style scoped>\n",
       "    .dataframe tbody tr th:only-of-type {\n",
       "        vertical-align: middle;\n",
       "    }\n",
       "\n",
       "    .dataframe tbody tr th {\n",
       "        vertical-align: top;\n",
       "    }\n",
       "\n",
       "    .dataframe thead th {\n",
       "        text-align: right;\n",
       "    }\n",
       "</style>\n",
       "<table border=\"1\" class=\"dataframe\">\n",
       "  <thead>\n",
       "    <tr style=\"text-align: right;\">\n",
       "      <th></th>\n",
       "      <th>price</th>\n",
       "      <th>erf_size</th>\n",
       "      <th>floor_size</th>\n",
       "      <th>rates_and_taxes</th>\n",
       "      <th>property_type</th>\n",
       "    </tr>\n",
       "  </thead>\n",
       "  <tbody>\n",
       "    <tr>\n",
       "      <th>0</th>\n",
       "      <td>3900000.0</td>\n",
       "      <td>NaN</td>\n",
       "      <td>NaN</td>\n",
       "      <td>NaN</td>\n",
       "      <td>House</td>\n",
       "    </tr>\n",
       "    <tr>\n",
       "      <th>1</th>\n",
       "      <td>665000.0</td>\n",
       "      <td>NaN</td>\n",
       "      <td>51.0</td>\n",
       "      <td>750.0</td>\n",
       "      <td>House</td>\n",
       "    </tr>\n",
       "    <tr>\n",
       "      <th>2</th>\n",
       "      <td>5399000.0</td>\n",
       "      <td>1447.0</td>\n",
       "      <td>421.0</td>\n",
       "      <td>2147.0</td>\n",
       "      <td>House</td>\n",
       "    </tr>\n",
       "    <tr>\n",
       "      <th>3</th>\n",
       "      <td>3300000.0</td>\n",
       "      <td>1205.0</td>\n",
       "      <td>385.0</td>\n",
       "      <td>NaN</td>\n",
       "      <td>House</td>\n",
       "    </tr>\n",
       "    <tr>\n",
       "      <th>4</th>\n",
       "      <td>1295000.0</td>\n",
       "      <td>545.0</td>\n",
       "      <td>NaN</td>\n",
       "      <td>NaN</td>\n",
       "      <td>House</td>\n",
       "    </tr>\n",
       "  </tbody>\n",
       "</table>\n",
       "</div>"
      ],
      "text/plain": [
       "       price  erf_size  floor_size  rates_and_taxes property_type\n",
       "0  3900000.0       NaN         NaN              NaN         House\n",
       "1   665000.0       NaN        51.0            750.0         House\n",
       "2  5399000.0    1447.0       421.0           2147.0         House\n",
       "3  3300000.0    1205.0       385.0              NaN         House\n",
       "4  1295000.0     545.0         NaN              NaN         House"
      ]
     },
     "execution_count": 13,
     "metadata": {},
     "output_type": "execute_result"
    }
   ],
   "source": [
    "dataframe_cleaned.head()"
   ]
  },
  {
   "cell_type": "code",
   "execution_count": 14,
   "metadata": {},
   "outputs": [
    {
     "data": {
      "text/html": [
       "<div>\n",
       "<style scoped>\n",
       "    .dataframe tbody tr th:only-of-type {\n",
       "        vertical-align: middle;\n",
       "    }\n",
       "\n",
       "    .dataframe tbody tr th {\n",
       "        vertical-align: top;\n",
       "    }\n",
       "\n",
       "    .dataframe thead th {\n",
       "        text-align: right;\n",
       "    }\n",
       "</style>\n",
       "<table border=\"1\" class=\"dataframe\">\n",
       "  <thead>\n",
       "    <tr style=\"text-align: right;\">\n",
       "      <th></th>\n",
       "      <th>price</th>\n",
       "      <th>erf_size</th>\n",
       "      <th>floor_size</th>\n",
       "      <th>rates_and_taxes</th>\n",
       "    </tr>\n",
       "  </thead>\n",
       "  <tbody>\n",
       "    <tr>\n",
       "      <th>count</th>\n",
       "      <td>1.051700e+04</td>\n",
       "      <td>6.078000e+03</td>\n",
       "      <td>5360.000000</td>\n",
       "      <td>6.088000e+03</td>\n",
       "    </tr>\n",
       "    <tr>\n",
       "      <th>mean</th>\n",
       "      <td>2.237931e+06</td>\n",
       "      <td>5.236216e+03</td>\n",
       "      <td>357.235075</td>\n",
       "      <td>1.919504e+03</td>\n",
       "    </tr>\n",
       "    <tr>\n",
       "      <th>std</th>\n",
       "      <td>3.538479e+06</td>\n",
       "      <td>1.537411e+05</td>\n",
       "      <td>10346.165578</td>\n",
       "      <td>3.425260e+04</td>\n",
       "    </tr>\n",
       "    <tr>\n",
       "      <th>min</th>\n",
       "      <td>1.250000e+03</td>\n",
       "      <td>1.000000e+00</td>\n",
       "      <td>1.000000</td>\n",
       "      <td>1.000000e+00</td>\n",
       "    </tr>\n",
       "    <tr>\n",
       "      <th>25%</th>\n",
       "      <td>7.500000e+05</td>\n",
       "      <td>4.950000e+02</td>\n",
       "      <td>62.000000</td>\n",
       "      <td>4.000000e+02</td>\n",
       "    </tr>\n",
       "    <tr>\n",
       "      <th>50%</th>\n",
       "      <td>1.300000e+06</td>\n",
       "      <td>7.730000e+02</td>\n",
       "      <td>99.000000</td>\n",
       "      <td>7.000000e+02</td>\n",
       "    </tr>\n",
       "    <tr>\n",
       "      <th>75%</th>\n",
       "      <td>2.499000e+06</td>\n",
       "      <td>1.487000e+03</td>\n",
       "      <td>197.000000</td>\n",
       "      <td>1.490250e+03</td>\n",
       "    </tr>\n",
       "    <tr>\n",
       "      <th>max</th>\n",
       "      <td>1.031000e+08</td>\n",
       "      <td>1.111111e+07</td>\n",
       "      <td>755000.000000</td>\n",
       "      <td>2.300000e+06</td>\n",
       "    </tr>\n",
       "  </tbody>\n",
       "</table>\n",
       "</div>"
      ],
      "text/plain": [
       "              price      erf_size     floor_size  rates_and_taxes\n",
       "count  1.051700e+04  6.078000e+03    5360.000000     6.088000e+03\n",
       "mean   2.237931e+06  5.236216e+03     357.235075     1.919504e+03\n",
       "std    3.538479e+06  1.537411e+05   10346.165578     3.425260e+04\n",
       "min    1.250000e+03  1.000000e+00       1.000000     1.000000e+00\n",
       "25%    7.500000e+05  4.950000e+02      62.000000     4.000000e+02\n",
       "50%    1.300000e+06  7.730000e+02      99.000000     7.000000e+02\n",
       "75%    2.499000e+06  1.487000e+03     197.000000     1.490250e+03\n",
       "max    1.031000e+08  1.111111e+07  755000.000000     2.300000e+06"
      ]
     },
     "execution_count": 14,
     "metadata": {},
     "output_type": "execute_result"
    }
   ],
   "source": [
    "dataframe_cleaned.describe()"
   ]
  },
  {
   "cell_type": "code",
   "execution_count": 15,
   "metadata": {},
   "outputs": [
    {
     "name": "stdout",
     "output_type": "stream",
     "text": [
      "listing_number\n",
      "type_of_property\n",
      "street_address\n",
      "erf_size\n",
      "floor_size\n",
      "no_transfer_duty\n",
      "rates_and_taxes\n",
      "age\n",
      "pets_allowed\n",
      "bedrooms\n",
      "bathrooms\n",
      "kitchens\n",
      "garage\n",
      "parking\n",
      "garden\n",
      "pool\n",
      "internet_access\n",
      "price\n",
      "location\n",
      "latitude\n",
      "longitude\n"
     ]
    }
   ],
   "source": [
    "for col in dataframe:\n",
    "    print(col)"
   ]
  },
  {
   "cell_type": "code",
   "execution_count": 16,
   "metadata": {},
   "outputs": [],
   "source": [
    "data = dataframe[['bedrooms','bathrooms','kitchens','garage','parking','garden','pool','internet_access','no_transfer_duty','pets_allowed','age','street_address','location','latitude','longitude']]"
   ]
  },
  {
   "cell_type": "code",
   "execution_count": 17,
   "metadata": {},
   "outputs": [
    {
     "data": {
      "text/html": [
       "<div>\n",
       "<style scoped>\n",
       "    .dataframe tbody tr th:only-of-type {\n",
       "        vertical-align: middle;\n",
       "    }\n",
       "\n",
       "    .dataframe tbody tr th {\n",
       "        vertical-align: top;\n",
       "    }\n",
       "\n",
       "    .dataframe thead th {\n",
       "        text-align: right;\n",
       "    }\n",
       "</style>\n",
       "<table border=\"1\" class=\"dataframe\">\n",
       "  <thead>\n",
       "    <tr style=\"text-align: right;\">\n",
       "      <th></th>\n",
       "      <th>bedrooms</th>\n",
       "      <th>bathrooms</th>\n",
       "      <th>kitchens</th>\n",
       "      <th>garage</th>\n",
       "      <th>parking</th>\n",
       "      <th>garden</th>\n",
       "      <th>pool</th>\n",
       "      <th>internet_access</th>\n",
       "      <th>no_transfer_duty</th>\n",
       "      <th>pets_allowed</th>\n",
       "      <th>age</th>\n",
       "      <th>street_address</th>\n",
       "      <th>location</th>\n",
       "      <th>latitude</th>\n",
       "      <th>longitude</th>\n",
       "    </tr>\n",
       "  </thead>\n",
       "  <tbody>\n",
       "    <tr>\n",
       "      <th>0</th>\n",
       "      <td>3.0</td>\n",
       "      <td>2.0</td>\n",
       "      <td>1.0</td>\n",
       "      <td>2</td>\n",
       "      <td>NaN</td>\n",
       "      <td>NaN</td>\n",
       "      <td>NaN</td>\n",
       "      <td>Fibre</td>\n",
       "      <td>Yes</td>\n",
       "      <td>Yes</td>\n",
       "      <td>1.0</td>\n",
       "      <td>Waterkloof Ridge</td>\n",
       "      <td>Waterkloof Ridge,Gauteng,Johannesburg</td>\n",
       "      <td>-26.045632</td>\n",
       "      <td>28.00856</td>\n",
       "    </tr>\n",
       "    <tr>\n",
       "      <th>1</th>\n",
       "      <td>2.0</td>\n",
       "      <td>NaN</td>\n",
       "      <td>NaN</td>\n",
       "      <td>NaN</td>\n",
       "      <td>Secure Parking</td>\n",
       "      <td>NaN</td>\n",
       "      <td>NaN</td>\n",
       "      <td>Fibre</td>\n",
       "      <td>Yes</td>\n",
       "      <td>No</td>\n",
       "      <td>NaN</td>\n",
       "      <td>Mondeor</td>\n",
       "      <td>Mondeor,Gauteng,Johannesburg</td>\n",
       "      <td>-26.276790</td>\n",
       "      <td>28.00635</td>\n",
       "    </tr>\n",
       "    <tr>\n",
       "      <th>2</th>\n",
       "      <td>4.0</td>\n",
       "      <td>3.0</td>\n",
       "      <td>NaN</td>\n",
       "      <td>2</td>\n",
       "      <td>2</td>\n",
       "      <td>Yes</td>\n",
       "      <td>Yes</td>\n",
       "      <td>Fibre</td>\n",
       "      <td>NaN</td>\n",
       "      <td>Yes</td>\n",
       "      <td>NaN</td>\n",
       "      <td>Waverley</td>\n",
       "      <td>Waverley,Gauteng,Johannesburg</td>\n",
       "      <td>-26.137170</td>\n",
       "      <td>28.07654</td>\n",
       "    </tr>\n",
       "    <tr>\n",
       "      <th>3</th>\n",
       "      <td>4.0</td>\n",
       "      <td>5.0</td>\n",
       "      <td>NaN</td>\n",
       "      <td>1</td>\n",
       "      <td>NaN</td>\n",
       "      <td>Yes</td>\n",
       "      <td>Yes</td>\n",
       "      <td>NaN</td>\n",
       "      <td>NaN</td>\n",
       "      <td>Yes</td>\n",
       "      <td>NaN</td>\n",
       "      <td>Cyrildene</td>\n",
       "      <td>Cyrildene,Gauteng,Johannesburg</td>\n",
       "      <td>-26.179020</td>\n",
       "      <td>28.10000</td>\n",
       "    </tr>\n",
       "    <tr>\n",
       "      <th>4</th>\n",
       "      <td>3.0</td>\n",
       "      <td>3.0</td>\n",
       "      <td>1.0</td>\n",
       "      <td>NaN</td>\n",
       "      <td>4</td>\n",
       "      <td>Yes</td>\n",
       "      <td>NaN</td>\n",
       "      <td>NaN</td>\n",
       "      <td>NaN</td>\n",
       "      <td>Yes</td>\n",
       "      <td>NaN</td>\n",
       "      <td>Sophiatown</td>\n",
       "      <td>Sophiatown,Gauteng,Johannesburg</td>\n",
       "      <td>-26.173830</td>\n",
       "      <td>27.97934</td>\n",
       "    </tr>\n",
       "  </tbody>\n",
       "</table>\n",
       "</div>"
      ],
      "text/plain": [
       "   bedrooms  bathrooms  kitchens garage         parking garden pool  \\\n",
       "0       3.0        2.0       1.0      2             NaN    NaN  NaN   \n",
       "1       2.0        NaN       NaN    NaN  Secure Parking    NaN  NaN   \n",
       "2       4.0        3.0       NaN      2               2    Yes  Yes   \n",
       "3       4.0        5.0       NaN      1             NaN    Yes  Yes   \n",
       "4       3.0        3.0       1.0    NaN               4    Yes  NaN   \n",
       "\n",
       "  internet_access no_transfer_duty pets_allowed  age    street_address  \\\n",
       "0           Fibre              Yes          Yes  1.0  Waterkloof Ridge   \n",
       "1           Fibre              Yes           No  NaN           Mondeor   \n",
       "2           Fibre              NaN          Yes  NaN          Waverley   \n",
       "3             NaN              NaN          Yes  NaN         Cyrildene   \n",
       "4             NaN              NaN          Yes  NaN        Sophiatown   \n",
       "\n",
       "                                location   latitude  longitude  \n",
       "0  Waterkloof Ridge,Gauteng,Johannesburg -26.045632   28.00856  \n",
       "1           Mondeor,Gauteng,Johannesburg -26.276790   28.00635  \n",
       "2          Waverley,Gauteng,Johannesburg -26.137170   28.07654  \n",
       "3         Cyrildene,Gauteng,Johannesburg -26.179020   28.10000  \n",
       "4        Sophiatown,Gauteng,Johannesburg -26.173830   27.97934  "
      ]
     },
     "execution_count": 17,
     "metadata": {},
     "output_type": "execute_result"
    }
   ],
   "source": [
    "data.head()"
   ]
  },
  {
   "cell_type": "code",
   "execution_count": 18,
   "metadata": {},
   "outputs": [
    {
     "name": "stderr",
     "output_type": "stream",
     "text": [
      "<ipython-input-18-76a1624af8c7>:8: SettingWithCopyWarning: \n",
      "A value is trying to be set on a copy of a slice from a DataFrame\n",
      "\n",
      "See the caveats in the documentation: https://pandas.pydata.org/pandas-docs/stable/user_guide/indexing.html#returning-a-view-versus-a-copy\n",
      "  data['garage'][i] = 'Yes'\n",
      "<ipython-input-18-76a1624af8c7>:12: SettingWithCopyWarning: \n",
      "A value is trying to be set on a copy of a slice from a DataFrame\n",
      "\n",
      "See the caveats in the documentation: https://pandas.pydata.org/pandas-docs/stable/user_guide/indexing.html#returning-a-view-versus-a-copy\n",
      "  triGarage(data)\n",
      "<ipython-input-18-76a1624af8c7>:10: SettingWithCopyWarning: \n",
      "A value is trying to be set on a copy of a slice from a DataFrame\n",
      "\n",
      "See the caveats in the documentation: https://pandas.pydata.org/pandas-docs/stable/user_guide/indexing.html#returning-a-view-versus-a-copy\n",
      "  data['garage'][i] = 'No'\n",
      "<ipython-input-18-76a1624af8c7>:6: SettingWithCopyWarning: \n",
      "A value is trying to be set on a copy of a slice from a DataFrame\n",
      "\n",
      "See the caveats in the documentation: https://pandas.pydata.org/pandas-docs/stable/user_guide/indexing.html#returning-a-view-versus-a-copy\n",
      "  data['garage'][i] = 'No'\n"
     ]
    }
   ],
   "source": [
    "def triGarage(data):\n",
    "    #for col in data['Garage'].unique():\n",
    "    for i in range(data.shape[0]):\n",
    "        if(type(data['garage'][i]) != float):\n",
    "            if '0.0' in data['garage'][i] or 'parking' in (data['garage'][i]).lower():\n",
    "                data['garage'][i] = 'No'\n",
    "            elif (data['garage'][i] != 'No'):\n",
    "                data['garage'][i] = 'Yes'\n",
    "        else:\n",
    "            data['garage'][i] = 'No'\n",
    "                \n",
    "triGarage(data)"
   ]
  },
  {
   "cell_type": "code",
   "execution_count": 19,
   "metadata": {},
   "outputs": [
    {
     "name": "stderr",
     "output_type": "stream",
     "text": [
      "<ipython-input-19-e4ebd3387962>:9: SettingWithCopyWarning: \n",
      "A value is trying to be set on a copy of a slice from a DataFrame\n",
      "\n",
      "See the caveats in the documentation: https://pandas.pydata.org/pandas-docs/stable/user_guide/indexing.html#returning-a-view-versus-a-copy\n",
      "  data['parking'][i] = 'No'\n",
      "<ipython-input-19-e4ebd3387962>:11: SettingWithCopyWarning: \n",
      "A value is trying to be set on a copy of a slice from a DataFrame\n",
      "\n",
      "See the caveats in the documentation: https://pandas.pydata.org/pandas-docs/stable/user_guide/indexing.html#returning-a-view-versus-a-copy\n",
      "  triParking(data)\n",
      "<ipython-input-19-e4ebd3387962>:7: SettingWithCopyWarning: \n",
      "A value is trying to be set on a copy of a slice from a DataFrame\n",
      "\n",
      "See the caveats in the documentation: https://pandas.pydata.org/pandas-docs/stable/user_guide/indexing.html#returning-a-view-versus-a-copy\n",
      "  data['parking'][i] = 'Yes'\n",
      "<ipython-input-19-e4ebd3387962>:5: SettingWithCopyWarning: \n",
      "A value is trying to be set on a copy of a slice from a DataFrame\n",
      "\n",
      "See the caveats in the documentation: https://pandas.pydata.org/pandas-docs/stable/user_guide/indexing.html#returning-a-view-versus-a-copy\n",
      "  data['parking'][i] = 'No'\n"
     ]
    }
   ],
   "source": [
    "def triParking(data):\n",
    "    for i in range(data.shape[0]):\n",
    "        if(type(data['parking'][i]) != float):\n",
    "            if '0.0' in data['parking'][i] or 'garage' in (data['parking'][i]).lower():\n",
    "                data['parking'][i] = 'No'\n",
    "            elif (data['parking'][i] != 'No'):\n",
    "                data['parking'][i] = 'Yes'\n",
    "        else:\n",
    "            data['parking'][i] = 'No'\n",
    "                \n",
    "triParking(data)"
   ]
  },
  {
   "cell_type": "code",
   "execution_count": 20,
   "metadata": {},
   "outputs": [
    {
     "data": {
      "text/plain": [
       "Yes    6173\n",
       "No     4429\n",
       "Name: parking, dtype: int64"
      ]
     },
     "execution_count": 20,
     "metadata": {},
     "output_type": "execute_result"
    }
   ],
   "source": [
    "data['parking'].value_counts()"
   ]
  },
  {
   "cell_type": "code",
   "execution_count": 21,
   "metadata": {},
   "outputs": [
    {
     "name": "stderr",
     "output_type": "stream",
     "text": [
      "<ipython-input-21-b5095565047b>:6: SettingWithCopyWarning: \n",
      "A value is trying to be set on a copy of a slice from a DataFrame\n",
      "\n",
      "See the caveats in the documentation: https://pandas.pydata.org/pandas-docs/stable/user_guide/indexing.html#returning-a-view-versus-a-copy\n",
      "  data['garden'][i] = 'No'\n",
      "<ipython-input-21-b5095565047b>:7: SettingWithCopyWarning: \n",
      "A value is trying to be set on a copy of a slice from a DataFrame\n",
      "\n",
      "See the caveats in the documentation: https://pandas.pydata.org/pandas-docs/stable/user_guide/indexing.html#returning-a-view-versus-a-copy\n",
      "  triGarden(data)\n",
      "<ipython-input-21-b5095565047b>:4: SettingWithCopyWarning: \n",
      "A value is trying to be set on a copy of a slice from a DataFrame\n",
      "\n",
      "See the caveats in the documentation: https://pandas.pydata.org/pandas-docs/stable/user_guide/indexing.html#returning-a-view-versus-a-copy\n",
      "  data['garden'][i] = 'Yes'\n"
     ]
    }
   ],
   "source": [
    "def triGarden(data):\n",
    "    for i in range(data.shape[0]):\n",
    "        if(type(data['garden'][i]) != float):\n",
    "            data['garden'][i] = 'Yes'\n",
    "        else:\n",
    "            data['garden'][i] = 'No'\n",
    "triGarden(data)"
   ]
  },
  {
   "cell_type": "code",
   "execution_count": 22,
   "metadata": {},
   "outputs": [
    {
     "data": {
      "text/plain": [
       "array(['No', 'Yes'], dtype=object)"
      ]
     },
     "execution_count": 22,
     "metadata": {},
     "output_type": "execute_result"
    }
   ],
   "source": [
    "data['garden'].unique()"
   ]
  },
  {
   "cell_type": "code",
   "execution_count": 23,
   "metadata": {},
   "outputs": [
    {
     "name": "stderr",
     "output_type": "stream",
     "text": [
      "<ipython-input-23-7023ad56661c>:9: SettingWithCopyWarning: \n",
      "A value is trying to be set on a copy of a slice from a DataFrame\n",
      "\n",
      "See the caveats in the documentation: https://pandas.pydata.org/pandas-docs/stable/user_guide/indexing.html#returning-a-view-versus-a-copy\n",
      "  data['pool'][i] = 'No'\n",
      "<ipython-input-23-7023ad56661c>:10: SettingWithCopyWarning: \n",
      "A value is trying to be set on a copy of a slice from a DataFrame\n",
      "\n",
      "See the caveats in the documentation: https://pandas.pydata.org/pandas-docs/stable/user_guide/indexing.html#returning-a-view-versus-a-copy\n",
      "  triPool(data)\n",
      "<ipython-input-23-7023ad56661c>:7: SettingWithCopyWarning: \n",
      "A value is trying to be set on a copy of a slice from a DataFrame\n",
      "\n",
      "See the caveats in the documentation: https://pandas.pydata.org/pandas-docs/stable/user_guide/indexing.html#returning-a-view-versus-a-copy\n",
      "  data['pool'][i] = 'Yes'\n",
      "<ipython-input-23-7023ad56661c>:5: SettingWithCopyWarning: \n",
      "A value is trying to be set on a copy of a slice from a DataFrame\n",
      "\n",
      "See the caveats in the documentation: https://pandas.pydata.org/pandas-docs/stable/user_guide/indexing.html#returning-a-view-versus-a-copy\n",
      "  data['pool'][i] = 'No'\n"
     ]
    }
   ],
   "source": [
    "def triPool(data):\n",
    "    for i in range(data.shape[0]):\n",
    "        if(type(data['pool'][i]) != float):\n",
    "            if \"communal\" in data['pool'][i]:\n",
    "                data['pool'][i] = 'No'\n",
    "            else: \n",
    "                data['pool'][i] = 'Yes'\n",
    "        else:\n",
    "            data['pool'][i] = 'No'\n",
    "triPool(data)"
   ]
  },
  {
   "cell_type": "code",
   "execution_count": 24,
   "metadata": {},
   "outputs": [
    {
     "data": {
      "text/plain": [
       "No     7408\n",
       "Yes    3194\n",
       "Name: pool, dtype: int64"
      ]
     },
     "execution_count": 24,
     "metadata": {},
     "output_type": "execute_result"
    }
   ],
   "source": [
    "data['pool'].value_counts()"
   ]
  },
  {
   "cell_type": "code",
   "execution_count": 25,
   "metadata": {},
   "outputs": [
    {
     "name": "stderr",
     "output_type": "stream",
     "text": [
      "<ipython-input-25-d49105e9bc75>:7: SettingWithCopyWarning: \n",
      "A value is trying to be set on a copy of a slice from a DataFrame\n",
      "\n",
      "See the caveats in the documentation: https://pandas.pydata.org/pandas-docs/stable/user_guide/indexing.html#returning-a-view-versus-a-copy\n",
      "  data['internet_access'][i] = 'Satellite'\n",
      "<ipython-input-25-d49105e9bc75>:16: SettingWithCopyWarning: \n",
      "A value is trying to be set on a copy of a slice from a DataFrame\n",
      "\n",
      "See the caveats in the documentation: https://pandas.pydata.org/pandas-docs/stable/user_guide/indexing.html#returning-a-view-versus-a-copy\n",
      "  triInternet(data)\n",
      "<ipython-input-25-d49105e9bc75>:11: SettingWithCopyWarning: \n",
      "A value is trying to be set on a copy of a slice from a DataFrame\n",
      "\n",
      "See the caveats in the documentation: https://pandas.pydata.org/pandas-docs/stable/user_guide/indexing.html#returning-a-view-versus-a-copy\n",
      "  data['internet_access'][i] = 'ADSL'\n",
      "<ipython-input-25-d49105e9bc75>:13: SettingWithCopyWarning: \n",
      "A value is trying to be set on a copy of a slice from a DataFrame\n",
      "\n",
      "See the caveats in the documentation: https://pandas.pydata.org/pandas-docs/stable/user_guide/indexing.html#returning-a-view-versus-a-copy\n",
      "  data['internet_access'][i] = 'Dial-up'\n",
      "<ipython-input-25-d49105e9bc75>:9: SettingWithCopyWarning: \n",
      "A value is trying to be set on a copy of a slice from a DataFrame\n",
      "\n",
      "See the caveats in the documentation: https://pandas.pydata.org/pandas-docs/stable/user_guide/indexing.html#returning-a-view-versus-a-copy\n",
      "  data['internet_access'][i] = 'Wimax'\n"
     ]
    }
   ],
   "source": [
    "def triInternet(data):\n",
    "    for i in range(data.shape[0]):\n",
    "        if(type(data['internet_access'][i]) != float):\n",
    "            if \"fibre\" in (data['pool'][i]).lower():\n",
    "                data['internet_access'][i] = 'Fibre'\n",
    "            elif \"satellite\" in (data['internet_access'][i]).lower(): \n",
    "                data['internet_access'][i] = 'Satellite'\n",
    "            elif \"wimax\" in (data['internet_access'][i]).lower(): \n",
    "                data['internet_access'][i] = 'Wimax'\n",
    "            elif \"adsl\" in (data['internet_access'][i]).lower(): \n",
    "                data['internet_access'][i] = 'ADSL'\n",
    "            elif \"dial-up\" in (data['internet_access'][i]).lower(): \n",
    "                data['internet_access'][i] = 'Dial-up'\n",
    "        #else:\n",
    "         #   data['Internet Access'][i] = 'No'\n",
    "triInternet(data)"
   ]
  },
  {
   "cell_type": "code",
   "execution_count": 26,
   "metadata": {},
   "outputs": [
    {
     "data": {
      "text/plain": [
       "Fibre        814\n",
       "Satellite    136\n",
       "ADSL          98\n",
       "Dial-up        3\n",
       "Wimax          2\n",
       "Name: internet_access, dtype: int64"
      ]
     },
     "execution_count": 26,
     "metadata": {},
     "output_type": "execute_result"
    }
   ],
   "source": [
    "data['internet_access'].value_counts()"
   ]
  },
  {
   "cell_type": "code",
   "execution_count": 27,
   "metadata": {},
   "outputs": [
    {
     "name": "stdout",
     "output_type": "stream",
     "text": [
      "Fibre\n",
      "nan\n",
      "Satellite\n",
      "ADSL\n",
      "Dial-up\n",
      "Wimax\n"
     ]
    },
    {
     "data": {
      "text/plain": [
       "No     7408\n",
       "Yes    3194\n",
       "Name: pool, dtype: int64"
      ]
     },
     "execution_count": 27,
     "metadata": {},
     "output_type": "execute_result"
    }
   ],
   "source": [
    "#triGarage(ndata)\n",
    "#fibre>satellite>wimax>adsl>dialup\n",
    "\n",
    "for col in data['internet_access'].unique() :\n",
    "    print(col)\n",
    "data['pool'].value_counts()"
   ]
  },
  {
   "cell_type": "code",
   "execution_count": 28,
   "metadata": {},
   "outputs": [],
   "source": [
    "dataframe_cleaned =  pd.concat([dataframe_cleaned,data],axis=1)"
   ]
  },
  {
   "cell_type": "code",
   "execution_count": 29,
   "metadata": {},
   "outputs": [
    {
     "data": {
      "text/html": [
       "<div>\n",
       "<style scoped>\n",
       "    .dataframe tbody tr th:only-of-type {\n",
       "        vertical-align: middle;\n",
       "    }\n",
       "\n",
       "    .dataframe tbody tr th {\n",
       "        vertical-align: top;\n",
       "    }\n",
       "\n",
       "    .dataframe thead th {\n",
       "        text-align: right;\n",
       "    }\n",
       "</style>\n",
       "<table border=\"1\" class=\"dataframe\">\n",
       "  <thead>\n",
       "    <tr style=\"text-align: right;\">\n",
       "      <th></th>\n",
       "      <th>price</th>\n",
       "      <th>erf_size</th>\n",
       "      <th>floor_size</th>\n",
       "      <th>rates_and_taxes</th>\n",
       "      <th>property_type</th>\n",
       "      <th>bedrooms</th>\n",
       "      <th>bathrooms</th>\n",
       "      <th>kitchens</th>\n",
       "      <th>garage</th>\n",
       "      <th>parking</th>\n",
       "      <th>garden</th>\n",
       "      <th>pool</th>\n",
       "      <th>internet_access</th>\n",
       "      <th>no_transfer_duty</th>\n",
       "      <th>pets_allowed</th>\n",
       "      <th>age</th>\n",
       "      <th>street_address</th>\n",
       "      <th>location</th>\n",
       "      <th>latitude</th>\n",
       "      <th>longitude</th>\n",
       "    </tr>\n",
       "  </thead>\n",
       "  <tbody>\n",
       "    <tr>\n",
       "      <th>0</th>\n",
       "      <td>3900000.0</td>\n",
       "      <td>NaN</td>\n",
       "      <td>NaN</td>\n",
       "      <td>NaN</td>\n",
       "      <td>House</td>\n",
       "      <td>3.0</td>\n",
       "      <td>2.0</td>\n",
       "      <td>1.0</td>\n",
       "      <td>Yes</td>\n",
       "      <td>No</td>\n",
       "      <td>No</td>\n",
       "      <td>No</td>\n",
       "      <td>Fibre</td>\n",
       "      <td>Yes</td>\n",
       "      <td>Yes</td>\n",
       "      <td>1.0</td>\n",
       "      <td>Waterkloof Ridge</td>\n",
       "      <td>Waterkloof Ridge,Gauteng,Johannesburg</td>\n",
       "      <td>-26.045632</td>\n",
       "      <td>28.00856</td>\n",
       "    </tr>\n",
       "    <tr>\n",
       "      <th>1</th>\n",
       "      <td>665000.0</td>\n",
       "      <td>NaN</td>\n",
       "      <td>51.0</td>\n",
       "      <td>750.0</td>\n",
       "      <td>House</td>\n",
       "      <td>2.0</td>\n",
       "      <td>NaN</td>\n",
       "      <td>NaN</td>\n",
       "      <td>No</td>\n",
       "      <td>Yes</td>\n",
       "      <td>No</td>\n",
       "      <td>No</td>\n",
       "      <td>Fibre</td>\n",
       "      <td>Yes</td>\n",
       "      <td>No</td>\n",
       "      <td>NaN</td>\n",
       "      <td>Mondeor</td>\n",
       "      <td>Mondeor,Gauteng,Johannesburg</td>\n",
       "      <td>-26.276790</td>\n",
       "      <td>28.00635</td>\n",
       "    </tr>\n",
       "    <tr>\n",
       "      <th>2</th>\n",
       "      <td>5399000.0</td>\n",
       "      <td>1447.0</td>\n",
       "      <td>421.0</td>\n",
       "      <td>2147.0</td>\n",
       "      <td>House</td>\n",
       "      <td>4.0</td>\n",
       "      <td>3.0</td>\n",
       "      <td>NaN</td>\n",
       "      <td>Yes</td>\n",
       "      <td>Yes</td>\n",
       "      <td>Yes</td>\n",
       "      <td>Yes</td>\n",
       "      <td>Fibre</td>\n",
       "      <td>NaN</td>\n",
       "      <td>Yes</td>\n",
       "      <td>NaN</td>\n",
       "      <td>Waverley</td>\n",
       "      <td>Waverley,Gauteng,Johannesburg</td>\n",
       "      <td>-26.137170</td>\n",
       "      <td>28.07654</td>\n",
       "    </tr>\n",
       "    <tr>\n",
       "      <th>3</th>\n",
       "      <td>3300000.0</td>\n",
       "      <td>1205.0</td>\n",
       "      <td>385.0</td>\n",
       "      <td>NaN</td>\n",
       "      <td>House</td>\n",
       "      <td>4.0</td>\n",
       "      <td>5.0</td>\n",
       "      <td>NaN</td>\n",
       "      <td>Yes</td>\n",
       "      <td>No</td>\n",
       "      <td>Yes</td>\n",
       "      <td>Yes</td>\n",
       "      <td>NaN</td>\n",
       "      <td>NaN</td>\n",
       "      <td>Yes</td>\n",
       "      <td>NaN</td>\n",
       "      <td>Cyrildene</td>\n",
       "      <td>Cyrildene,Gauteng,Johannesburg</td>\n",
       "      <td>-26.179020</td>\n",
       "      <td>28.10000</td>\n",
       "    </tr>\n",
       "    <tr>\n",
       "      <th>4</th>\n",
       "      <td>1295000.0</td>\n",
       "      <td>545.0</td>\n",
       "      <td>NaN</td>\n",
       "      <td>NaN</td>\n",
       "      <td>House</td>\n",
       "      <td>3.0</td>\n",
       "      <td>3.0</td>\n",
       "      <td>1.0</td>\n",
       "      <td>No</td>\n",
       "      <td>Yes</td>\n",
       "      <td>Yes</td>\n",
       "      <td>No</td>\n",
       "      <td>NaN</td>\n",
       "      <td>NaN</td>\n",
       "      <td>Yes</td>\n",
       "      <td>NaN</td>\n",
       "      <td>Sophiatown</td>\n",
       "      <td>Sophiatown,Gauteng,Johannesburg</td>\n",
       "      <td>-26.173830</td>\n",
       "      <td>27.97934</td>\n",
       "    </tr>\n",
       "    <tr>\n",
       "      <th>...</th>\n",
       "      <td>...</td>\n",
       "      <td>...</td>\n",
       "      <td>...</td>\n",
       "      <td>...</td>\n",
       "      <td>...</td>\n",
       "      <td>...</td>\n",
       "      <td>...</td>\n",
       "      <td>...</td>\n",
       "      <td>...</td>\n",
       "      <td>...</td>\n",
       "      <td>...</td>\n",
       "      <td>...</td>\n",
       "      <td>...</td>\n",
       "      <td>...</td>\n",
       "      <td>...</td>\n",
       "      <td>...</td>\n",
       "      <td>...</td>\n",
       "      <td>...</td>\n",
       "      <td>...</td>\n",
       "      <td>...</td>\n",
       "    </tr>\n",
       "    <tr>\n",
       "      <th>10597</th>\n",
       "      <td>710000.0</td>\n",
       "      <td>NaN</td>\n",
       "      <td>NaN</td>\n",
       "      <td>NaN</td>\n",
       "      <td>Townhouse</td>\n",
       "      <td>2.0</td>\n",
       "      <td>1.0</td>\n",
       "      <td>1.0</td>\n",
       "      <td>No</td>\n",
       "      <td>No</td>\n",
       "      <td>No</td>\n",
       "      <td>No</td>\n",
       "      <td>NaN</td>\n",
       "      <td>NaN</td>\n",
       "      <td>NaN</td>\n",
       "      <td>NaN</td>\n",
       "      <td>Kensington</td>\n",
       "      <td>Kensington,Gauteng,Johannesburg</td>\n",
       "      <td>-26.192140</td>\n",
       "      <td>28.10992</td>\n",
       "    </tr>\n",
       "    <tr>\n",
       "      <th>10598</th>\n",
       "      <td>950000.0</td>\n",
       "      <td>NaN</td>\n",
       "      <td>NaN</td>\n",
       "      <td>NaN</td>\n",
       "      <td>Townhouse</td>\n",
       "      <td>2.0</td>\n",
       "      <td>2.0</td>\n",
       "      <td>1.0</td>\n",
       "      <td>No</td>\n",
       "      <td>Yes</td>\n",
       "      <td>No</td>\n",
       "      <td>Yes</td>\n",
       "      <td>NaN</td>\n",
       "      <td>NaN</td>\n",
       "      <td>No</td>\n",
       "      <td>NaN</td>\n",
       "      <td>Oakdene</td>\n",
       "      <td>Oakdene,Gauteng,Johannesburg</td>\n",
       "      <td>-26.264600</td>\n",
       "      <td>28.05898</td>\n",
       "    </tr>\n",
       "    <tr>\n",
       "      <th>10599</th>\n",
       "      <td>5000000.0</td>\n",
       "      <td>NaN</td>\n",
       "      <td>NaN</td>\n",
       "      <td>NaN</td>\n",
       "      <td>Townhouse</td>\n",
       "      <td>12.0</td>\n",
       "      <td>6.0</td>\n",
       "      <td>1.0</td>\n",
       "      <td>No</td>\n",
       "      <td>No</td>\n",
       "      <td>Yes</td>\n",
       "      <td>No</td>\n",
       "      <td>NaN</td>\n",
       "      <td>NaN</td>\n",
       "      <td>NaN</td>\n",
       "      <td>NaN</td>\n",
       "      <td>Hills</td>\n",
       "      <td>Hills,Gauteng,Johannesburg</td>\n",
       "      <td>-26.240520</td>\n",
       "      <td>28.02143</td>\n",
       "    </tr>\n",
       "    <tr>\n",
       "      <th>10600</th>\n",
       "      <td>990000.0</td>\n",
       "      <td>NaN</td>\n",
       "      <td>NaN</td>\n",
       "      <td>531.0</td>\n",
       "      <td>Townhouse</td>\n",
       "      <td>3.0</td>\n",
       "      <td>2.0</td>\n",
       "      <td>NaN</td>\n",
       "      <td>Yes</td>\n",
       "      <td>Yes</td>\n",
       "      <td>Yes</td>\n",
       "      <td>No</td>\n",
       "      <td>NaN</td>\n",
       "      <td>NaN</td>\n",
       "      <td>NaN</td>\n",
       "      <td>NaN</td>\n",
       "      <td>Elandspark</td>\n",
       "      <td>Elandspark,Gauteng,Johannesburg</td>\n",
       "      <td>-26.241430</td>\n",
       "      <td>28.10461</td>\n",
       "    </tr>\n",
       "    <tr>\n",
       "      <th>10601</th>\n",
       "      <td>950000.0</td>\n",
       "      <td>NaN</td>\n",
       "      <td>NaN</td>\n",
       "      <td>640.0</td>\n",
       "      <td>Townhouse</td>\n",
       "      <td>2.0</td>\n",
       "      <td>1.0</td>\n",
       "      <td>NaN</td>\n",
       "      <td>No</td>\n",
       "      <td>Yes</td>\n",
       "      <td>No</td>\n",
       "      <td>Yes</td>\n",
       "      <td>NaN</td>\n",
       "      <td>NaN</td>\n",
       "      <td>NaN</td>\n",
       "      <td>NaN</td>\n",
       "      <td>Glenvista</td>\n",
       "      <td>Glenvista,Gauteng,Johannesburg</td>\n",
       "      <td>-26.286690</td>\n",
       "      <td>28.05885</td>\n",
       "    </tr>\n",
       "  </tbody>\n",
       "</table>\n",
       "<p>10602 rows × 20 columns</p>\n",
       "</div>"
      ],
      "text/plain": [
       "           price  erf_size  floor_size  rates_and_taxes property_type  \\\n",
       "0      3900000.0       NaN         NaN              NaN         House   \n",
       "1       665000.0       NaN        51.0            750.0         House   \n",
       "2      5399000.0    1447.0       421.0           2147.0         House   \n",
       "3      3300000.0    1205.0       385.0              NaN         House   \n",
       "4      1295000.0     545.0         NaN              NaN         House   \n",
       "...          ...       ...         ...              ...           ...   \n",
       "10597   710000.0       NaN         NaN              NaN     Townhouse   \n",
       "10598   950000.0       NaN         NaN              NaN     Townhouse   \n",
       "10599  5000000.0       NaN         NaN              NaN     Townhouse   \n",
       "10600   990000.0       NaN         NaN            531.0     Townhouse   \n",
       "10601   950000.0       NaN         NaN            640.0     Townhouse   \n",
       "\n",
       "       bedrooms  bathrooms  kitchens garage parking garden pool  \\\n",
       "0           3.0        2.0       1.0    Yes      No     No   No   \n",
       "1           2.0        NaN       NaN     No     Yes     No   No   \n",
       "2           4.0        3.0       NaN    Yes     Yes    Yes  Yes   \n",
       "3           4.0        5.0       NaN    Yes      No    Yes  Yes   \n",
       "4           3.0        3.0       1.0     No     Yes    Yes   No   \n",
       "...         ...        ...       ...    ...     ...    ...  ...   \n",
       "10597       2.0        1.0       1.0     No      No     No   No   \n",
       "10598       2.0        2.0       1.0     No     Yes     No  Yes   \n",
       "10599      12.0        6.0       1.0     No      No    Yes   No   \n",
       "10600       3.0        2.0       NaN    Yes     Yes    Yes   No   \n",
       "10601       2.0        1.0       NaN     No     Yes     No  Yes   \n",
       "\n",
       "      internet_access no_transfer_duty pets_allowed  age    street_address  \\\n",
       "0               Fibre              Yes          Yes  1.0  Waterkloof Ridge   \n",
       "1               Fibre              Yes           No  NaN           Mondeor   \n",
       "2               Fibre              NaN          Yes  NaN          Waverley   \n",
       "3                 NaN              NaN          Yes  NaN         Cyrildene   \n",
       "4                 NaN              NaN          Yes  NaN        Sophiatown   \n",
       "...               ...              ...          ...  ...               ...   \n",
       "10597             NaN              NaN          NaN  NaN        Kensington   \n",
       "10598             NaN              NaN           No  NaN           Oakdene   \n",
       "10599             NaN              NaN          NaN  NaN             Hills   \n",
       "10600             NaN              NaN          NaN  NaN        Elandspark   \n",
       "10601             NaN              NaN          NaN  NaN         Glenvista   \n",
       "\n",
       "                                    location   latitude  longitude  \n",
       "0      Waterkloof Ridge,Gauteng,Johannesburg -26.045632   28.00856  \n",
       "1               Mondeor,Gauteng,Johannesburg -26.276790   28.00635  \n",
       "2              Waverley,Gauteng,Johannesburg -26.137170   28.07654  \n",
       "3             Cyrildene,Gauteng,Johannesburg -26.179020   28.10000  \n",
       "4            Sophiatown,Gauteng,Johannesburg -26.173830   27.97934  \n",
       "...                                      ...        ...        ...  \n",
       "10597        Kensington,Gauteng,Johannesburg -26.192140   28.10992  \n",
       "10598           Oakdene,Gauteng,Johannesburg -26.264600   28.05898  \n",
       "10599             Hills,Gauteng,Johannesburg -26.240520   28.02143  \n",
       "10600        Elandspark,Gauteng,Johannesburg -26.241430   28.10461  \n",
       "10601         Glenvista,Gauteng,Johannesburg -26.286690   28.05885  \n",
       "\n",
       "[10602 rows x 20 columns]"
      ]
     },
     "execution_count": 29,
     "metadata": {},
     "output_type": "execute_result"
    }
   ],
   "source": [
    "dataframe_cleaned"
   ]
  },
  {
   "cell_type": "code",
   "execution_count": 30,
   "metadata": {},
   "outputs": [
    {
     "data": {
      "text/html": [
       "<div>\n",
       "<style scoped>\n",
       "    .dataframe tbody tr th:only-of-type {\n",
       "        vertical-align: middle;\n",
       "    }\n",
       "\n",
       "    .dataframe tbody tr th {\n",
       "        vertical-align: top;\n",
       "    }\n",
       "\n",
       "    .dataframe thead th {\n",
       "        text-align: right;\n",
       "    }\n",
       "</style>\n",
       "<table border=\"1\" class=\"dataframe\">\n",
       "  <thead>\n",
       "    <tr style=\"text-align: right;\">\n",
       "      <th></th>\n",
       "      <th>price</th>\n",
       "      <th>erf_size</th>\n",
       "      <th>floor_size</th>\n",
       "      <th>rates_and_taxes</th>\n",
       "      <th>property_type</th>\n",
       "      <th>bedrooms</th>\n",
       "      <th>bathrooms</th>\n",
       "      <th>kitchens</th>\n",
       "      <th>garage</th>\n",
       "      <th>parking</th>\n",
       "      <th>garden</th>\n",
       "      <th>pool</th>\n",
       "      <th>internet_access</th>\n",
       "      <th>no_transfer_duty</th>\n",
       "      <th>pets_allowed</th>\n",
       "      <th>age</th>\n",
       "      <th>street_address</th>\n",
       "      <th>location</th>\n",
       "      <th>latitude</th>\n",
       "      <th>longitude</th>\n",
       "    </tr>\n",
       "  </thead>\n",
       "  <tbody>\n",
       "    <tr>\n",
       "      <th>0</th>\n",
       "      <td>3900000.0</td>\n",
       "      <td>NaN</td>\n",
       "      <td>NaN</td>\n",
       "      <td>NaN</td>\n",
       "      <td>House</td>\n",
       "      <td>3.0</td>\n",
       "      <td>2.0</td>\n",
       "      <td>1.0</td>\n",
       "      <td>Yes</td>\n",
       "      <td>No</td>\n",
       "      <td>No</td>\n",
       "      <td>No</td>\n",
       "      <td>Fibre</td>\n",
       "      <td>Yes</td>\n",
       "      <td>Yes</td>\n",
       "      <td>1.0</td>\n",
       "      <td>Waterkloof Ridge</td>\n",
       "      <td>Waterkloof Ridge,Gauteng,Johannesburg</td>\n",
       "      <td>-26.045632</td>\n",
       "      <td>28.00856</td>\n",
       "    </tr>\n",
       "    <tr>\n",
       "      <th>1</th>\n",
       "      <td>665000.0</td>\n",
       "      <td>NaN</td>\n",
       "      <td>51.0</td>\n",
       "      <td>750.0</td>\n",
       "      <td>House</td>\n",
       "      <td>2.0</td>\n",
       "      <td>NaN</td>\n",
       "      <td>NaN</td>\n",
       "      <td>No</td>\n",
       "      <td>Yes</td>\n",
       "      <td>No</td>\n",
       "      <td>No</td>\n",
       "      <td>Fibre</td>\n",
       "      <td>Yes</td>\n",
       "      <td>No</td>\n",
       "      <td>NaN</td>\n",
       "      <td>Mondeor</td>\n",
       "      <td>Mondeor,Gauteng,Johannesburg</td>\n",
       "      <td>-26.276790</td>\n",
       "      <td>28.00635</td>\n",
       "    </tr>\n",
       "    <tr>\n",
       "      <th>2</th>\n",
       "      <td>5399000.0</td>\n",
       "      <td>1447.0</td>\n",
       "      <td>421.0</td>\n",
       "      <td>2147.0</td>\n",
       "      <td>House</td>\n",
       "      <td>4.0</td>\n",
       "      <td>3.0</td>\n",
       "      <td>NaN</td>\n",
       "      <td>Yes</td>\n",
       "      <td>Yes</td>\n",
       "      <td>Yes</td>\n",
       "      <td>Yes</td>\n",
       "      <td>Fibre</td>\n",
       "      <td>NaN</td>\n",
       "      <td>Yes</td>\n",
       "      <td>NaN</td>\n",
       "      <td>Waverley</td>\n",
       "      <td>Waverley,Gauteng,Johannesburg</td>\n",
       "      <td>-26.137170</td>\n",
       "      <td>28.07654</td>\n",
       "    </tr>\n",
       "    <tr>\n",
       "      <th>3</th>\n",
       "      <td>3300000.0</td>\n",
       "      <td>1205.0</td>\n",
       "      <td>385.0</td>\n",
       "      <td>NaN</td>\n",
       "      <td>House</td>\n",
       "      <td>4.0</td>\n",
       "      <td>5.0</td>\n",
       "      <td>NaN</td>\n",
       "      <td>Yes</td>\n",
       "      <td>No</td>\n",
       "      <td>Yes</td>\n",
       "      <td>Yes</td>\n",
       "      <td>NaN</td>\n",
       "      <td>NaN</td>\n",
       "      <td>Yes</td>\n",
       "      <td>NaN</td>\n",
       "      <td>Cyrildene</td>\n",
       "      <td>Cyrildene,Gauteng,Johannesburg</td>\n",
       "      <td>-26.179020</td>\n",
       "      <td>28.10000</td>\n",
       "    </tr>\n",
       "    <tr>\n",
       "      <th>4</th>\n",
       "      <td>1295000.0</td>\n",
       "      <td>545.0</td>\n",
       "      <td>NaN</td>\n",
       "      <td>NaN</td>\n",
       "      <td>House</td>\n",
       "      <td>3.0</td>\n",
       "      <td>3.0</td>\n",
       "      <td>1.0</td>\n",
       "      <td>No</td>\n",
       "      <td>Yes</td>\n",
       "      <td>Yes</td>\n",
       "      <td>No</td>\n",
       "      <td>NaN</td>\n",
       "      <td>NaN</td>\n",
       "      <td>Yes</td>\n",
       "      <td>NaN</td>\n",
       "      <td>Sophiatown</td>\n",
       "      <td>Sophiatown,Gauteng,Johannesburg</td>\n",
       "      <td>-26.173830</td>\n",
       "      <td>27.97934</td>\n",
       "    </tr>\n",
       "  </tbody>\n",
       "</table>\n",
       "</div>"
      ],
      "text/plain": [
       "       price  erf_size  floor_size  rates_and_taxes property_type  bedrooms  \\\n",
       "0  3900000.0       NaN         NaN              NaN         House       3.0   \n",
       "1   665000.0       NaN        51.0            750.0         House       2.0   \n",
       "2  5399000.0    1447.0       421.0           2147.0         House       4.0   \n",
       "3  3300000.0    1205.0       385.0              NaN         House       4.0   \n",
       "4  1295000.0     545.0         NaN              NaN         House       3.0   \n",
       "\n",
       "   bathrooms  kitchens garage parking garden pool internet_access  \\\n",
       "0        2.0       1.0    Yes      No     No   No           Fibre   \n",
       "1        NaN       NaN     No     Yes     No   No           Fibre   \n",
       "2        3.0       NaN    Yes     Yes    Yes  Yes           Fibre   \n",
       "3        5.0       NaN    Yes      No    Yes  Yes             NaN   \n",
       "4        3.0       1.0     No     Yes    Yes   No             NaN   \n",
       "\n",
       "  no_transfer_duty pets_allowed  age    street_address  \\\n",
       "0              Yes          Yes  1.0  Waterkloof Ridge   \n",
       "1              Yes           No  NaN           Mondeor   \n",
       "2              NaN          Yes  NaN          Waverley   \n",
       "3              NaN          Yes  NaN         Cyrildene   \n",
       "4              NaN          Yes  NaN        Sophiatown   \n",
       "\n",
       "                                location   latitude  longitude  \n",
       "0  Waterkloof Ridge,Gauteng,Johannesburg -26.045632   28.00856  \n",
       "1           Mondeor,Gauteng,Johannesburg -26.276790   28.00635  \n",
       "2          Waverley,Gauteng,Johannesburg -26.137170   28.07654  \n",
       "3         Cyrildene,Gauteng,Johannesburg -26.179020   28.10000  \n",
       "4        Sophiatown,Gauteng,Johannesburg -26.173830   27.97934  "
      ]
     },
     "execution_count": 30,
     "metadata": {},
     "output_type": "execute_result"
    }
   ],
   "source": [
    "dataframe_cleaned.head()"
   ]
  },
  {
   "cell_type": "code",
   "execution_count": 31,
   "metadata": {},
   "outputs": [],
   "source": [
    "dataframe_cleaned = dataframe_cleaned.drop_duplicates()"
   ]
  },
  {
   "cell_type": "code",
   "execution_count": 32,
   "metadata": {},
   "outputs": [],
   "source": [
    "dataframe_cleaned.to_csv(\"gauteng_cleaned.csv\", index=False)"
   ]
  },
  {
   "cell_type": "markdown",
   "metadata": {},
   "source": [
    "# Gauteng housing prediction"
   ]
  },
  {
   "cell_type": "code",
   "execution_count": 33,
   "metadata": {},
   "outputs": [],
   "source": [
    "import pandas as pd\n",
    "import numpy as np\n",
    "import joblib\n",
    "#import geopandas as gpd\n",
    "import matplotlib.pyplot as plt\n",
    "#from shapely.geometry import Point, Polygon\n",
    "#import folium\n",
    "import seaborn as sns"
   ]
  },
  {
   "cell_type": "code",
   "execution_count": 34,
   "metadata": {},
   "outputs": [],
   "source": [
    "np.random.seed(42)"
   ]
  },
  {
   "cell_type": "code",
   "execution_count": 35,
   "metadata": {},
   "outputs": [],
   "source": [
    "data = pd.read_csv('gauteng_cleaned.csv')\n",
    "\n",
    "pd.set_option('max_column',data.shape[1])\n",
    "\n",
    "# normalize columns name \n",
    "data.columns = data.columns.str.replace(' ','_')\n",
    "data.columns = data.columns.str.lower()\n",
    "df = data.copy()\n"
   ]
  },
  {
   "cell_type": "code",
   "execution_count": 36,
   "metadata": {},
   "outputs": [
    {
     "data": {
      "text/html": [
       "<div>\n",
       "<style scoped>\n",
       "    .dataframe tbody tr th:only-of-type {\n",
       "        vertical-align: middle;\n",
       "    }\n",
       "\n",
       "    .dataframe tbody tr th {\n",
       "        vertical-align: top;\n",
       "    }\n",
       "\n",
       "    .dataframe thead th {\n",
       "        text-align: right;\n",
       "    }\n",
       "</style>\n",
       "<table border=\"1\" class=\"dataframe\">\n",
       "  <thead>\n",
       "    <tr style=\"text-align: right;\">\n",
       "      <th></th>\n",
       "      <th>price</th>\n",
       "      <th>erf_size</th>\n",
       "      <th>floor_size</th>\n",
       "      <th>rates_and_taxes</th>\n",
       "      <th>property_type</th>\n",
       "      <th>bedrooms</th>\n",
       "      <th>bathrooms</th>\n",
       "      <th>kitchens</th>\n",
       "      <th>garage</th>\n",
       "      <th>parking</th>\n",
       "      <th>garden</th>\n",
       "      <th>pool</th>\n",
       "      <th>internet_access</th>\n",
       "      <th>no_transfer_duty</th>\n",
       "      <th>pets_allowed</th>\n",
       "      <th>age</th>\n",
       "      <th>street_address</th>\n",
       "      <th>location</th>\n",
       "      <th>latitude</th>\n",
       "      <th>longitude</th>\n",
       "    </tr>\n",
       "  </thead>\n",
       "  <tbody>\n",
       "    <tr>\n",
       "      <th>0</th>\n",
       "      <td>3900000.0</td>\n",
       "      <td>NaN</td>\n",
       "      <td>NaN</td>\n",
       "      <td>NaN</td>\n",
       "      <td>House</td>\n",
       "      <td>3.0</td>\n",
       "      <td>2.0</td>\n",
       "      <td>1.0</td>\n",
       "      <td>Yes</td>\n",
       "      <td>No</td>\n",
       "      <td>No</td>\n",
       "      <td>No</td>\n",
       "      <td>Fibre</td>\n",
       "      <td>Yes</td>\n",
       "      <td>Yes</td>\n",
       "      <td>1.0</td>\n",
       "      <td>Waterkloof Ridge</td>\n",
       "      <td>Waterkloof Ridge,Gauteng,Johannesburg</td>\n",
       "      <td>-26.045632</td>\n",
       "      <td>28.00856</td>\n",
       "    </tr>\n",
       "    <tr>\n",
       "      <th>1</th>\n",
       "      <td>665000.0</td>\n",
       "      <td>NaN</td>\n",
       "      <td>51.0</td>\n",
       "      <td>750.0</td>\n",
       "      <td>House</td>\n",
       "      <td>2.0</td>\n",
       "      <td>NaN</td>\n",
       "      <td>NaN</td>\n",
       "      <td>No</td>\n",
       "      <td>Yes</td>\n",
       "      <td>No</td>\n",
       "      <td>No</td>\n",
       "      <td>Fibre</td>\n",
       "      <td>Yes</td>\n",
       "      <td>No</td>\n",
       "      <td>NaN</td>\n",
       "      <td>Mondeor</td>\n",
       "      <td>Mondeor,Gauteng,Johannesburg</td>\n",
       "      <td>-26.276790</td>\n",
       "      <td>28.00635</td>\n",
       "    </tr>\n",
       "    <tr>\n",
       "      <th>2</th>\n",
       "      <td>5399000.0</td>\n",
       "      <td>1447.0</td>\n",
       "      <td>421.0</td>\n",
       "      <td>2147.0</td>\n",
       "      <td>House</td>\n",
       "      <td>4.0</td>\n",
       "      <td>3.0</td>\n",
       "      <td>NaN</td>\n",
       "      <td>Yes</td>\n",
       "      <td>Yes</td>\n",
       "      <td>Yes</td>\n",
       "      <td>Yes</td>\n",
       "      <td>Fibre</td>\n",
       "      <td>NaN</td>\n",
       "      <td>Yes</td>\n",
       "      <td>NaN</td>\n",
       "      <td>Waverley</td>\n",
       "      <td>Waverley,Gauteng,Johannesburg</td>\n",
       "      <td>-26.137170</td>\n",
       "      <td>28.07654</td>\n",
       "    </tr>\n",
       "    <tr>\n",
       "      <th>3</th>\n",
       "      <td>3300000.0</td>\n",
       "      <td>1205.0</td>\n",
       "      <td>385.0</td>\n",
       "      <td>NaN</td>\n",
       "      <td>House</td>\n",
       "      <td>4.0</td>\n",
       "      <td>5.0</td>\n",
       "      <td>NaN</td>\n",
       "      <td>Yes</td>\n",
       "      <td>No</td>\n",
       "      <td>Yes</td>\n",
       "      <td>Yes</td>\n",
       "      <td>NaN</td>\n",
       "      <td>NaN</td>\n",
       "      <td>Yes</td>\n",
       "      <td>NaN</td>\n",
       "      <td>Cyrildene</td>\n",
       "      <td>Cyrildene,Gauteng,Johannesburg</td>\n",
       "      <td>-26.179020</td>\n",
       "      <td>28.10000</td>\n",
       "    </tr>\n",
       "    <tr>\n",
       "      <th>4</th>\n",
       "      <td>1295000.0</td>\n",
       "      <td>545.0</td>\n",
       "      <td>NaN</td>\n",
       "      <td>NaN</td>\n",
       "      <td>House</td>\n",
       "      <td>3.0</td>\n",
       "      <td>3.0</td>\n",
       "      <td>1.0</td>\n",
       "      <td>No</td>\n",
       "      <td>Yes</td>\n",
       "      <td>Yes</td>\n",
       "      <td>No</td>\n",
       "      <td>NaN</td>\n",
       "      <td>NaN</td>\n",
       "      <td>Yes</td>\n",
       "      <td>NaN</td>\n",
       "      <td>Sophiatown</td>\n",
       "      <td>Sophiatown,Gauteng,Johannesburg</td>\n",
       "      <td>-26.173830</td>\n",
       "      <td>27.97934</td>\n",
       "    </tr>\n",
       "  </tbody>\n",
       "</table>\n",
       "</div>"
      ],
      "text/plain": [
       "       price  erf_size  floor_size  rates_and_taxes property_type  bedrooms  \\\n",
       "0  3900000.0       NaN         NaN              NaN         House       3.0   \n",
       "1   665000.0       NaN        51.0            750.0         House       2.0   \n",
       "2  5399000.0    1447.0       421.0           2147.0         House       4.0   \n",
       "3  3300000.0    1205.0       385.0              NaN         House       4.0   \n",
       "4  1295000.0     545.0         NaN              NaN         House       3.0   \n",
       "\n",
       "   bathrooms  kitchens garage parking garden pool internet_access  \\\n",
       "0        2.0       1.0    Yes      No     No   No           Fibre   \n",
       "1        NaN       NaN     No     Yes     No   No           Fibre   \n",
       "2        3.0       NaN    Yes     Yes    Yes  Yes           Fibre   \n",
       "3        5.0       NaN    Yes      No    Yes  Yes             NaN   \n",
       "4        3.0       1.0     No     Yes    Yes   No             NaN   \n",
       "\n",
       "  no_transfer_duty pets_allowed  age    street_address  \\\n",
       "0              Yes          Yes  1.0  Waterkloof Ridge   \n",
       "1              Yes           No  NaN           Mondeor   \n",
       "2              NaN          Yes  NaN          Waverley   \n",
       "3              NaN          Yes  NaN         Cyrildene   \n",
       "4              NaN          Yes  NaN        Sophiatown   \n",
       "\n",
       "                                location   latitude  longitude  \n",
       "0  Waterkloof Ridge,Gauteng,Johannesburg -26.045632   28.00856  \n",
       "1           Mondeor,Gauteng,Johannesburg -26.276790   28.00635  \n",
       "2          Waverley,Gauteng,Johannesburg -26.137170   28.07654  \n",
       "3         Cyrildene,Gauteng,Johannesburg -26.179020   28.10000  \n",
       "4        Sophiatown,Gauteng,Johannesburg -26.173830   27.97934  "
      ]
     },
     "execution_count": 36,
     "metadata": {},
     "output_type": "execute_result"
    }
   ],
   "source": [
    "df.head()"
   ]
  },
  {
   "cell_type": "markdown",
   "metadata": {},
   "source": [
    "## Exploratory data analysis"
   ]
  },
  {
   "cell_type": "markdown",
   "metadata": {},
   "source": [
    "### Analyse de forme"
   ]
  },
  {
   "cell_type": "markdown",
   "metadata": {},
   "source": [
    "- **La variable target est price** "
   ]
  },
  {
   "cell_type": "code",
   "execution_count": 37,
   "metadata": {},
   "outputs": [
    {
     "name": "stdout",
     "output_type": "stream",
     "text": [
      "8788 lignes et 20 colonnes dans le dataset\n"
     ]
    }
   ],
   "source": [
    "print(f\"{df.shape[0]} lignes et {df.shape[1]} colonnes dans le dataset\")"
   ]
  },
  {
   "cell_type": "code",
   "execution_count": 38,
   "metadata": {},
   "outputs": [
    {
     "name": "stdout",
     "output_type": "stream",
     "text": [
      "<class 'pandas.core.frame.DataFrame'>\n",
      "RangeIndex: 8788 entries, 0 to 8787\n",
      "Data columns (total 20 columns):\n",
      " #   Column            Non-Null Count  Dtype  \n",
      "---  ------            --------------  -----  \n",
      " 0   price             8715 non-null   float64\n",
      " 1   erf_size          4880 non-null   float64\n",
      " 2   floor_size        4608 non-null   float64\n",
      " 3   rates_and_taxes   5070 non-null   float64\n",
      " 4   property_type     8788 non-null   object \n",
      " 5   bedrooms          7519 non-null   float64\n",
      " 6   bathrooms         7592 non-null   float64\n",
      " 7   kitchens          3448 non-null   float64\n",
      " 8   garage            8788 non-null   object \n",
      " 9   parking           8788 non-null   object \n",
      " 10  garden            8788 non-null   object \n",
      " 11  pool              8788 non-null   object \n",
      " 12  internet_access   918 non-null    object \n",
      " 13  no_transfer_duty  532 non-null    object \n",
      " 14  pets_allowed      4367 non-null   object \n",
      " 15  age               267 non-null    float64\n",
      " 16  street_address    8788 non-null   object \n",
      " 17  location          8788 non-null   object \n",
      " 18  latitude          8788 non-null   float64\n",
      " 19  longitude         8788 non-null   float64\n",
      "dtypes: float64(10), object(10)\n",
      "memory usage: 1.3+ MB\n"
     ]
    }
   ],
   "source": [
    "df.info()"
   ]
  },
  {
   "cell_type": "markdown",
   "metadata": {},
   "source": [
    "- **types de variables**: 10 variables de type float et 10 variables de type object"
   ]
  },
  {
   "cell_type": "code",
   "execution_count": 39,
   "metadata": {},
   "outputs": [
    {
     "data": {
      "text/plain": [
       "<AxesSubplot:>"
      ]
     },
     "execution_count": 39,
     "metadata": {},
     "output_type": "execute_result"
    },
    {
     "data": {
      "image/png": "[encoded data removed]",
      "text/plain": [
       "<Figure size 1080x720 with 1 Axes>"
      ]
     },
     "metadata": {
      "needs_background": "light"
     },
     "output_type": "display_data"
    }
   ],
   "source": [
    "plt.figure(figsize=(15,10))\n",
    "sns.heatmap(df.isna(),cbar=False)"
   ]
  },
  {
   "cell_type": "code",
   "execution_count": 40,
   "metadata": {},
   "outputs": [
    {
     "data": {
      "text/plain": [
       "parking             0.000000\n",
       "location            0.000000\n",
       "street_address      0.000000\n",
       "pool                0.000000\n",
       "garden              0.000000\n",
       "latitude            0.000000\n",
       "garage              0.000000\n",
       "longitude           0.000000\n",
       "property_type       0.000000\n",
       "price               0.008307\n",
       "bathrooms           0.136095\n",
       "bedrooms            0.144401\n",
       "rates_and_taxes     0.423077\n",
       "erf_size            0.444697\n",
       "floor_size          0.475649\n",
       "pets_allowed        0.503072\n",
       "kitchens            0.607647\n",
       "internet_access     0.895539\n",
       "no_transfer_duty    0.939463\n",
       "age                 0.969618\n",
       "dtype: float64"
      ]
     },
     "execution_count": 40,
     "metadata": {},
     "output_type": "execute_result"
    }
   ],
   "source": [
    "(df.isna().sum()/df.shape[0]).sort_values(ascending=True)"
   ]
  },
  {
   "cell_type": "code",
   "execution_count": 41,
   "metadata": {},
   "outputs": [
    {
     "data": {
      "text/plain": [
       "0.27737824305871644"
      ]
     },
     "execution_count": 41,
     "metadata": {},
     "output_type": "execute_result"
    }
   ],
   "source": [
    "(df.isna().sum()/df.shape[0]).sum()/df.shape[1]"
   ]
  },
  {
   "cell_type": "markdown",
   "metadata": {},
   "source": [
    "- **analyse des valeurs manquantes**: \n",
    "- il y a 3 variables dont + de 90% des valeurs sont manquantes \n",
    "- 5 variables de 40 à 60% de valeurs manquantes\n",
    "- 10 variables fournissent des données complètes.\n",
    "- On en déduit que le dataset fournit des données assez complètes puique 30% seulement sont manquantes."
   ]
  },
  {
   "cell_type": "markdown",
   "metadata": {},
   "source": [
    "### Analyse de forme"
   ]
  },
  {
   "cell_type": "markdown",
   "metadata": {},
   "source": [
    "Voici les descriptions des variables numériques "
   ]
  },
  {
   "cell_type": "code",
   "execution_count": 42,
   "metadata": {},
   "outputs": [
    {
     "data": {
      "text/html": [
       "<div>\n",
       "<style scoped>\n",
       "    .dataframe tbody tr th:only-of-type {\n",
       "        vertical-align: middle;\n",
       "    }\n",
       "\n",
       "    .dataframe tbody tr th {\n",
       "        vertical-align: top;\n",
       "    }\n",
       "\n",
       "    .dataframe thead th {\n",
       "        text-align: right;\n",
       "    }\n",
       "</style>\n",
       "<table border=\"1\" class=\"dataframe\">\n",
       "  <thead>\n",
       "    <tr style=\"text-align: right;\">\n",
       "      <th></th>\n",
       "      <th>price</th>\n",
       "      <th>erf_size</th>\n",
       "      <th>floor_size</th>\n",
       "      <th>rates_and_taxes</th>\n",
       "      <th>bedrooms</th>\n",
       "      <th>bathrooms</th>\n",
       "      <th>kitchens</th>\n",
       "      <th>age</th>\n",
       "      <th>latitude</th>\n",
       "      <th>longitude</th>\n",
       "    </tr>\n",
       "  </thead>\n",
       "  <tbody>\n",
       "    <tr>\n",
       "      <th>count</th>\n",
       "      <td>8.715000e+03</td>\n",
       "      <td>4.880000e+03</td>\n",
       "      <td>4608.000000</td>\n",
       "      <td>5.070000e+03</td>\n",
       "      <td>7519.000000</td>\n",
       "      <td>7592.000000</td>\n",
       "      <td>3448.000000</td>\n",
       "      <td>267.000000</td>\n",
       "      <td>8788.000000</td>\n",
       "      <td>8788.000000</td>\n",
       "    </tr>\n",
       "    <tr>\n",
       "      <th>mean</th>\n",
       "      <td>2.189168e+06</td>\n",
       "      <td>5.624865e+03</td>\n",
       "      <td>374.162326</td>\n",
       "      <td>2.023209e+03</td>\n",
       "      <td>3.417343</td>\n",
       "      <td>2.304268</td>\n",
       "      <td>1.172274</td>\n",
       "      <td>363.112360</td>\n",
       "      <td>-26.209140</td>\n",
       "      <td>28.023556</td>\n",
       "    </tr>\n",
       "    <tr>\n",
       "      <th>std</th>\n",
       "      <td>3.500068e+06</td>\n",
       "      <td>1.698115e+05</td>\n",
       "      <td>11157.516972</td>\n",
       "      <td>3.749821e+04</td>\n",
       "      <td>4.134838</td>\n",
       "      <td>2.348552</td>\n",
       "      <td>1.448233</td>\n",
       "      <td>740.575322</td>\n",
       "      <td>0.072198</td>\n",
       "      <td>0.069107</td>\n",
       "    </tr>\n",
       "    <tr>\n",
       "      <th>min</th>\n",
       "      <td>1.250000e+03</td>\n",
       "      <td>1.000000e+00</td>\n",
       "      <td>1.000000</td>\n",
       "      <td>1.000000e+00</td>\n",
       "      <td>0.500000</td>\n",
       "      <td>0.500000</td>\n",
       "      <td>1.000000</td>\n",
       "      <td>1.000000</td>\n",
       "      <td>-26.425930</td>\n",
       "      <td>27.804050</td>\n",
       "    </tr>\n",
       "    <tr>\n",
       "      <th>25%</th>\n",
       "      <td>7.370000e+05</td>\n",
       "      <td>4.950000e+02</td>\n",
       "      <td>60.000000</td>\n",
       "      <td>4.000000e+02</td>\n",
       "      <td>2.000000</td>\n",
       "      <td>1.000000</td>\n",
       "      <td>1.000000</td>\n",
       "      <td>5.500000</td>\n",
       "      <td>-26.259650</td>\n",
       "      <td>28.006350</td>\n",
       "    </tr>\n",
       "    <tr>\n",
       "      <th>50%</th>\n",
       "      <td>1.290000e+06</td>\n",
       "      <td>7.590000e+02</td>\n",
       "      <td>97.000000</td>\n",
       "      <td>7.000000e+02</td>\n",
       "      <td>3.000000</td>\n",
       "      <td>2.000000</td>\n",
       "      <td>1.000000</td>\n",
       "      <td>23.000000</td>\n",
       "      <td>-26.196560</td>\n",
       "      <td>28.039540</td>\n",
       "    </tr>\n",
       "    <tr>\n",
       "      <th>75%</th>\n",
       "      <td>2.400000e+06</td>\n",
       "      <td>1.487000e+03</td>\n",
       "      <td>180.000000</td>\n",
       "      <td>1.408500e+03</td>\n",
       "      <td>4.000000</td>\n",
       "      <td>2.500000</td>\n",
       "      <td>1.000000</td>\n",
       "      <td>72.000000</td>\n",
       "      <td>-26.162580</td>\n",
       "      <td>28.062360</td>\n",
       "    </tr>\n",
       "    <tr>\n",
       "      <th>max</th>\n",
       "      <td>1.031000e+08</td>\n",
       "      <td>1.111111e+07</td>\n",
       "      <td>755000.000000</td>\n",
       "      <td>2.300000e+06</td>\n",
       "      <td>152.000000</td>\n",
       "      <td>80.000000</td>\n",
       "      <td>53.000000</td>\n",
       "      <td>2022.000000</td>\n",
       "      <td>-25.991600</td>\n",
       "      <td>28.138590</td>\n",
       "    </tr>\n",
       "  </tbody>\n",
       "</table>\n",
       "</div>"
      ],
      "text/plain": [
       "              price      erf_size     floor_size  rates_and_taxes  \\\n",
       "count  8.715000e+03  4.880000e+03    4608.000000     5.070000e+03   \n",
       "mean   2.189168e+06  5.624865e+03     374.162326     2.023209e+03   \n",
       "std    3.500068e+06  1.698115e+05   11157.516972     3.749821e+04   \n",
       "min    1.250000e+03  1.000000e+00       1.000000     1.000000e+00   \n",
       "25%    7.370000e+05  4.950000e+02      60.000000     4.000000e+02   \n",
       "50%    1.290000e+06  7.590000e+02      97.000000     7.000000e+02   \n",
       "75%    2.400000e+06  1.487000e+03     180.000000     1.408500e+03   \n",
       "max    1.031000e+08  1.111111e+07  755000.000000     2.300000e+06   \n",
       "\n",
       "          bedrooms    bathrooms     kitchens          age     latitude  \\\n",
       "count  7519.000000  7592.000000  3448.000000   267.000000  8788.000000   \n",
       "mean      3.417343     2.304268     1.172274   363.112360   -26.209140   \n",
       "std       4.134838     2.348552     1.448233   740.575322     0.072198   \n",
       "min       0.500000     0.500000     1.000000     1.000000   -26.425930   \n",
       "25%       2.000000     1.000000     1.000000     5.500000   -26.259650   \n",
       "50%       3.000000     2.000000     1.000000    23.000000   -26.196560   \n",
       "75%       4.000000     2.500000     1.000000    72.000000   -26.162580   \n",
       "max     152.000000    80.000000    53.000000  2022.000000   -25.991600   \n",
       "\n",
       "         longitude  \n",
       "count  8788.000000  \n",
       "mean     28.023556  \n",
       "std       0.069107  \n",
       "min      27.804050  \n",
       "25%      28.006350  \n",
       "50%      28.039540  \n",
       "75%      28.062360  \n",
       "max      28.138590  "
      ]
     },
     "execution_count": 42,
     "metadata": {},
     "output_type": "execute_result"
    }
   ],
   "source": [
    "df.describe()"
   ]
  },
  {
   "cell_type": "markdown",
   "metadata": {},
   "source": [
    "## Visualization of the houses prices"
   ]
  },
  {
   "cell_type": "code",
   "execution_count": 43,
   "metadata": {},
   "outputs": [
    {
     "ename": "NameError",
     "evalue": "name 'gpd' is not defined",
     "output_type": "error",
     "traceback": [
      "\u001b[1;31m---------------------------------------------------------------------------\u001b[0m",
      "\u001b[1;31mNameError\u001b[0m                                 Traceback (most recent call last)",
      "\u001b[1;32m<ipython-input-43-b6478fed1a25>\u001b[0m in \u001b[0;36m<module>\u001b[1;34m\u001b[0m\n\u001b[1;32m----> 1\u001b[1;33m \u001b[0mstreet_map\u001b[0m\u001b[1;33m=\u001b[0m\u001b[0mgpd\u001b[0m\u001b[1;33m.\u001b[0m\u001b[0mread_file\u001b[0m\u001b[1;33m(\u001b[0m\u001b[1;34m\"JHB/electoral wards for jhb.shp\"\u001b[0m\u001b[1;33m)\u001b[0m\u001b[1;33m\u001b[0m\u001b[1;33m\u001b[0m\u001b[0m\n\u001b[0m\u001b[0;32m      2\u001b[0m \u001b[0mgeometry\u001b[0m \u001b[1;33m=\u001b[0m \u001b[1;33m[\u001b[0m\u001b[0mPoint\u001b[0m\u001b[1;33m(\u001b[0m\u001b[0mxy\u001b[0m\u001b[1;33m)\u001b[0m \u001b[1;32mfor\u001b[0m \u001b[0mxy\u001b[0m \u001b[1;32min\u001b[0m \u001b[0mzip\u001b[0m\u001b[1;33m(\u001b[0m\u001b[0mdf\u001b[0m\u001b[1;33m[\u001b[0m\u001b[1;34m'longitude'\u001b[0m\u001b[1;33m]\u001b[0m\u001b[1;33m,\u001b[0m \u001b[0mdf\u001b[0m\u001b[1;33m[\u001b[0m\u001b[1;34m'latitude'\u001b[0m\u001b[1;33m]\u001b[0m\u001b[1;33m)\u001b[0m\u001b[1;33m]\u001b[0m\u001b[1;33m\u001b[0m\u001b[1;33m\u001b[0m\u001b[0m\n\u001b[0;32m      3\u001b[0m \u001b[0mgeo_df\u001b[0m \u001b[1;33m=\u001b[0m \u001b[0mgpd\u001b[0m\u001b[1;33m.\u001b[0m\u001b[0mGeoDataFrame\u001b[0m\u001b[1;33m(\u001b[0m\u001b[0mdf\u001b[0m\u001b[1;33m,\u001b[0m\u001b[0mgeometry\u001b[0m \u001b[1;33m=\u001b[0m \u001b[0mgeometry\u001b[0m\u001b[1;33m)\u001b[0m\u001b[1;33m\u001b[0m\u001b[1;33m\u001b[0m\u001b[0m\n",
      "\u001b[1;31mNameError\u001b[0m: name 'gpd' is not defined"
     ]
    }
   ],
   "source": [
    "street_map=gpd.read_file(\"JHB/electoral wards for jhb.shp\")\n",
    "geometry = [Point(xy) for xy in zip(df['longitude'], df['latitude'])]\n",
    "geo_df = gpd.GeoDataFrame(df,geometry = geometry)"
   ]
  },
  {
   "cell_type": "code",
   "execution_count": null,
   "metadata": {},
   "outputs": [],
   "source": [
    "# create figure and axes, assign to subplot\n",
    "fig, ax = plt.subplots(figsize=(15,15))# add .shp mapfile to axes\n",
    "street_map.plot(ax=ax, alpha=0.3,color='grey')# add geodataframe to axes\n",
    "# assign ‘price’ variable to represent coordinates on graph\n",
    "# add legend\n",
    "# make datapoints transparent using alpha\n",
    "# assign size of points using markersize\n",
    "geo_df.plot(column='price',ax=ax,alpha=1, legend=True,markersize=150,vmin=1.25e+03,vmax=1e+07)# add title to graph\n",
    "plt.title('Housig Prices in Johannesburg', fontsize=15,fontweight='bold')# set latitiude and longitude boundaries for map display\n",
    "plt.show()\n",
    "\n"
   ]
  },
  {
   "cell_type": "markdown",
   "metadata": {},
   "source": [
    "Distribution de la variable price"
   ]
  },
  {
   "cell_type": "code",
   "execution_count": null,
   "metadata": {},
   "outputs": [],
   "source": [
    "import matplotlib.pyplot as plt \n",
    "plt.style.use('bmh')\n",
    "\n",
    "df['price'].hist(bins=300,rwidth = 1,figsize=(10,8))\n",
    "plt.title('House Prices')\n",
    "plt.show()"
   ]
  },
  {
   "cell_type": "markdown",
   "metadata": {},
   "source": [
    "- **Visualisation de la target:**\n",
    "- La variable price est distribuée asymétriquement.\n",
    "- Elle varie de 1250 à 103100000\n",
    "- Une majeure partie des maisons ont un prix autour 5000000.\n",
    "- Mais il existe des outliers qu'il faut traiter avant d'avoir un modèle de prédiction."
   ]
  },
  {
   "cell_type": "markdown",
   "metadata": {},
   "source": [
    "#### Variables continues"
   ]
  },
  {
   "cell_type": "code",
   "execution_count": null,
   "metadata": {},
   "outputs": [],
   "source": [
    "f, ax = plt.subplots(7, figsize=(7,40))\n",
    "sns.distplot(df['rates_and_taxes'],color='r',ax=ax[0])\n",
    "sns.distplot(df.bedrooms,color='r',ax=ax[1])\n",
    "sns.distplot(df.bathrooms,color='r',ax=ax[2])\n",
    "sns.distplot(df.kitchens,color='r',ax=ax[3])\n",
    "sns.distplot(df.age,color='r',ax=ax[4])\n",
    "sns.distplot(df['erf_size'],color='r',ax=ax[5])\n",
    "sns.distplot(df['floor_size'],color='r',ax=ax[6])\n",
    "\n",
    "ax[0].set_title('Rates and Taxes')\n",
    "ax[1].set_title('Bedrooms')\n",
    "ax[2].set_title('Bathrooms')\n",
    "ax[3].set_title('Kitchens')\n",
    "ax[4].set_title('Age')\n",
    "ax[5].set_title('Erf Size')\n",
    "ax[6].set_title('Floor Size')\n"
   ]
  },
  {
   "cell_type": "markdown",
   "metadata": {},
   "source": [
    "- Plus de la moitié des taxes des maisons ont une valeur aux alentours de 125000 et la variable Rate and Taxe n'est pas normalement distribuée.\n",
    "- La variable Bedrooms est également asymétrique et la plupart des maisons se retrouve avec des chambres à coucher autour de 5.\n",
    "- Distribution asymétrique de la variable Bathrooms dont la plupart des valeurs se situe entre 0 et 10 \n",
    "- Nombreux valeurs de la variable Kitchens se trouve entre 0 et 5 \n",
    "- Les données montrent que sur les maisons présentes dans les données sont assez récentes .Et les données montrent aussi qu'il existe quelques maisons avec plus de 2000ans.\n",
    "- La variable Erf Size montre une distribution asymétrique et la majorité des données se situe entre 0 et O.O25 m²\n",
    "- Les données de la variable Floor size montrent que la plupart ont des surfaces moins de 5000m²"
   ]
  },
  {
   "cell_type": "markdown",
   "metadata": {},
   "source": [
    "#### Variables discrètes"
   ]
  },
  {
   "cell_type": "code",
   "execution_count": null,
   "metadata": {},
   "outputs": [],
   "source": [
    "for col in df.select_dtypes('object'):\n",
    "    print(f'{col:-<50} {df[col].unique() }')"
   ]
  },
  {
   "cell_type": "code",
   "execution_count": null,
   "metadata": {},
   "outputs": [],
   "source": [
    "for col in df.select_dtypes(object):\n",
    "    if(col != 'location') & (col != 'street_address'):\n",
    "        plt.figure()\n",
    "        df[col].value_counts().plot.pie()"
   ]
  },
  {
   "cell_type": "markdown",
   "metadata": {},
   "source": [
    "- Il y a 3 grandes types de propriétés dont près de la moitié est de type House\n",
    "- La fibre est accessible dans 3/4 des maisons tandis qu'une petite partie des maisons se retrouve avec la Dial-Up et la Wimax\n",
    "- Les autres variables sont de types binaires.\n"
   ]
  },
  {
   "cell_type": "markdown",
   "metadata": {},
   "source": [
    "### Analyse de fond"
   ]
  },
  {
   "cell_type": "markdown",
   "metadata": {},
   "source": [
    "#### Relation Target/Variables continues"
   ]
  },
  {
   "cell_type": "code",
   "execution_count": null,
   "metadata": {},
   "outputs": [],
   "source": [
    "for col in df.select_dtypes(float):\n",
    "    if (col != 'price') & (col != 'erf_size') & (col != 'floor_size') & (col != 'rates_and_taxes'):\n",
    "        fig ,ax = plt.subplots(figsize=(5,5))\n",
    "        ax.scatter(x=df[col],y=df['price'])\n",
    "        plt.ylabel('price',fontsize=15)\n",
    "        plt.xlabel(col,fontsize=15)"
   ]
  },
  {
   "cell_type": "code",
   "execution_count": null,
   "metadata": {},
   "outputs": [],
   "source": [
    "fig ,ax = plt.subplots(3, figsize=(7,15))\n",
    "ax[0].scatter(x=df['floor_size'],y=df['price'])\n",
    "ax[0].axis([0,20000,min(df['price']),max(df['price'])])\n",
    "ax[1].scatter(x=df['erf_size'],y=df['price'])\n",
    "ax[1].axis([0,20000,min(df['price']),max(df['price'])])\n",
    "ax[2].scatter(x=df['rates_and_taxes'],y=df['price'])\n",
    "ax[2].axis([0,20000,min(df['price']),max(df['price'])])\n",
    "\n",
    "ax[0].set_title('Floor Size')\n",
    "ax[1].set_title('Erf Size')\n",
    "ax[2].set_title('Rates and Taxes')"
   ]
  },
  {
   "cell_type": "markdown",
   "metadata": {},
   "source": [
    "A première vue, aucune variable numérique n'est en rapport avec la variable target price."
   ]
  },
  {
   "cell_type": "code",
   "execution_count": null,
   "metadata": {},
   "outputs": [],
   "source": [
    "fig ,ax = plt.subplots()\n",
    "ax.scatter(x=df['longitude'],y=df['latitude'])\n",
    "#ax.axis([0,20000,min(df['price']),max(df['price'])])"
   ]
  },
  {
   "cell_type": "markdown",
   "metadata": {},
   "source": [
    "On observe que les gens ont une tendance à acheter des maisons dans la région Nord-Est"
   ]
  },
  {
   "cell_type": "markdown",
   "metadata": {},
   "source": [
    "#### Relation Target/Variables discrètes"
   ]
  },
  {
   "cell_type": "markdown",
   "metadata": {},
   "source": [
    "- Target/property_type"
   ]
  },
  {
   "cell_type": "code",
   "execution_count": null,
   "metadata": {},
   "outputs": [],
   "source": [
    "plt.figure(figsize=(12,8))\n",
    "sns.boxenplot(x='property_type',y='price',data=df,palette='rainbow')\n",
    "plt.title('Price by type of property')"
   ]
  },
  {
   "cell_type": "markdown",
   "metadata": {},
   "source": [
    "- Le prix moyen entre les 3 types est à peu près égal.\n",
    "- La différence des prix de maison entre house et apartment n'est pas trop grande mais excède les types townhouse. De plus, le prix des maisons varie beaucoup sur ces 2 types.\n",
    "- El il existe certains outliers qui se distinguent."
   ]
  },
  {
   "cell_type": "code",
   "execution_count": null,
   "metadata": {},
   "outputs": [],
   "source": [
    "plt.figure(figsize=(12,8))\n",
    "sns.boxenplot(x='internet_access',y='price',data=df,palette='rainbow')\n",
    "plt.title('Price by internet access')"
   ]
  },
  {
   "cell_type": "markdown",
   "metadata": {},
   "source": [
    "- Le prix des maisons avec la fibre varie beaucoup.\n",
    "- Les maisons avec accès à la fibre sont plus chers que les autres .\n",
    "- Les maisons avec fibre et Satellite sont les plus demandées.\n",
    "- Le prix moyen des maisons ne se différencie pas beaucoup selon le type d'accès internet.\n",
    "- Il y a quand même quelques outliers "
   ]
  },
  {
   "cell_type": "markdown",
   "metadata": {},
   "source": [
    "- Target/others"
   ]
  },
  {
   "cell_type": "code",
   "execution_count": null,
   "metadata": {},
   "outputs": [],
   "source": [
    "for col in df['property_type'].unique():\n",
    "    with_garage = df[(df['garage'] == \"Yes\") & (df['property_type'] == col)]\n",
    "    no_garage = df[(df['garage'] == \"No\") & (df['property_type'] ==col)]\n",
    "\n",
    "    plt.figure(figsize=(20,10))\n",
    "    sns.distplot(with_garage['price'],color='r',label='with garage')\n",
    "    sns.distplot(no_garage['price'],color='b',label='no garage')\n",
    "    plt.title(f\"Price by type {col}\")\n",
    "    plt.legend()"
   ]
  },
  {
   "cell_type": "markdown",
   "metadata": {},
   "source": [
    "Il semble que le prix des maisons sans garage soit plus cher que celles avec garage surtout dans les townhouse mais il y a quand même une différence non-négligeable dans apartement.\n",
    "La différence est minime voire inexistante dans les maisons de type house.\n"
   ]
  },
  {
   "cell_type": "code",
   "execution_count": null,
   "metadata": {},
   "outputs": [],
   "source": [
    "for col in df['property_type'].unique():\n",
    "    with_parking = df[(df['parking'] == \"Yes\") & (df['property_type'] == col)]\n",
    "    no_parking = df[(df['parking'] == \"No\") & (df['property_type'] == col)]\n",
    "\n",
    "    plt.figure(figsize=(20,10))\n",
    "    sns.distplot(with_parking['price'],color='r',label='with parking')\n",
    "    sns.distplot(no_parking['price'],color='b',label='no parking')\n",
    "    plt.title(f\"Price by type {col}\")\n",
    "    plt.legend()"
   ]
  },
  {
   "cell_type": "markdown",
   "metadata": {},
   "source": [
    "Légère différence de prix de maisons avec et sans parking dans les types House et différence assez grande dans les types Townhouse.Par contre aucune différence de prix dans les types Apartment"
   ]
  },
  {
   "cell_type": "code",
   "execution_count": null,
   "metadata": {},
   "outputs": [],
   "source": [
    "for col in df['property_type'].unique():\n",
    "    with_garden = df[(df['garden'] == \"Yes\") & (df['property_type'] == col)]\n",
    "    no_garden = df[(df['garden'] == \"No\") & (df['property_type'] == col)]\n",
    "\n",
    "    plt.figure(figsize=(20,10))\n",
    "    sns.distplot(with_garden['price'],color='r',label='with garden')\n",
    "    sns.distplot(no_garden['price'],color='b',label='no garden')\n",
    "    plt.title(f\"Price by type {col}\")\n",
    "    plt.legend()"
   ]
  },
  {
   "cell_type": "markdown",
   "metadata": {},
   "source": [
    "Prix semblable pour tout type de maisons avec ou sans jardin."
   ]
  },
  {
   "cell_type": "code",
   "execution_count": null,
   "metadata": {},
   "outputs": [],
   "source": [
    "for col in df['property_type'].unique():\n",
    "    with_pool = df[(df['pool'] == \"Yes\") & (df['property_type'] == col)]\n",
    "    no_pool = df[(df['pool'] == \"No\") & (df['property_type'] == col)]\n",
    "\n",
    "    plt.figure(figsize=(20,10))\n",
    "    sns.distplot(with_pool['price'],color='r',label='with pool')\n",
    "    sns.distplot(no_pool['price'],color='b',label='no pool')\n",
    "    plt.title(f\"Price by type {col}\")\n",
    "    plt.legend()"
   ]
  },
  {
   "cell_type": "markdown",
   "metadata": {},
   "source": [
    "Les maisons avec piscine se font plus chères dans les House et les Townhouse.\n",
    "Le prix est plus ou moins égal dans les Apartment.\n"
   ]
  },
  {
   "cell_type": "code",
   "execution_count": null,
   "metadata": {},
   "outputs": [],
   "source": [
    "for col in df['property_type'].unique():\n",
    "    with_pets = df[(df['pets_allowed'] == \"Yes\") & (df['property_type'] == col)]\n",
    "    no_pets = df[(df['pets_allowed'] == \"No\") & (df['property_type'] == col)]\n",
    "\n",
    "    plt.figure(figsize=(20,10))\n",
    "    sns.distplot(with_pets['price'],color='r',label='with pets')\n",
    "    sns.distplot(no_pets['price'],color='b',label='no pets')\n",
    "    plt.title(f\"Price by type {col}\")\n",
    "    plt.legend()"
   ]
  },
  {
   "cell_type": "markdown",
   "metadata": {},
   "source": [
    "L'interdiction ou non des animaux domestiques dans les maisons de type house sont négligeables.\n",
    "Dans les Apartment, il y a une légère différence mais il y a une large différence entre les prix des maisons avec ou sans interdiction sur les Townhouse."
   ]
  },
  {
   "cell_type": "markdown",
   "metadata": {},
   "source": [
    "### Analyse en profondeur"
   ]
  },
  {
   "cell_type": "markdown",
   "metadata": {},
   "source": [
    "#### Relation entre variable continue"
   ]
  },
  {
   "cell_type": "code",
   "execution_count": null,
   "metadata": {},
   "outputs": [],
   "source": [
    "sns.heatmap(df.corr(), annot=True, cmap='magma')"
   ]
  },
  {
   "cell_type": "markdown",
   "metadata": {},
   "source": [
    "- Bedrooms / bathrooms , bedrooms/ kitchens et bathrooms/kitchens semblent lier."
   ]
  },
  {
   "cell_type": "markdown",
   "metadata": {},
   "source": [
    "#### Relation property_type/variable continue"
   ]
  },
  {
   "cell_type": "code",
   "execution_count": null,
   "metadata": {},
   "outputs": [],
   "source": [
    "house = df[df['property_type'] == 'House']\n",
    "apartment = df[df['property_type'] == 'Apartment / Flat']\n",
    "townhouse = df[df['property_type'] == 'Townhouse']"
   ]
  },
  {
   "cell_type": "code",
   "execution_count": null,
   "metadata": {},
   "outputs": [],
   "source": [
    "for col in df.select_dtypes(float):\n",
    "    if(col != 'price'):\n",
    "        plt.figure(figsize=(20,10))\n",
    "        sns.distplot(house[col],color='g',label='house')\n",
    "        sns.distplot(apartment[col],label='apartment')\n",
    "        sns.distplot(townhouse[col],label='townhouse')\n",
    "        plt.legend()"
   ]
  },
  {
   "cell_type": "markdown",
   "metadata": {},
   "source": [
    "- La erf size d'un apartment et house diffère largement des deux autres.\n",
    "- Le floor size d'un townhouse est 10 fois supérieur à celui d'un apartment.\n",
    "- Les taxes des townhouse sont très chers contrairement aux house qui sont beaucoup plus abordables .\n",
    "- Les maisons de type house et apartment ont des bedrooms semblables mais les townhouse ont des bedrooms supérieurs aux deux autres.\n",
    "- Le nombre de bathroom des différents types est plus ou moins égal.\n",
    "- House et apartment ont des kitchens  égaux mais les townhouse ont des kitchens plus élévés.\n",
    "- Pas beaucoup de différence entre l'âge des maisons on distingue quand même que les apartment récents sont plus nombreux que les townhouse et house."
   ]
  },
  {
   "cell_type": "markdown",
   "metadata": {},
   "source": [
    "#### Relation internet_access/variable continue"
   ]
  },
  {
   "cell_type": "code",
   "execution_count": null,
   "metadata": {},
   "outputs": [],
   "source": [
    "fibre = df[df['internet_access'] == 'Fibre']\n",
    "satellite = df[df['internet_access'] == 'Satellite']\n",
    "adsl = df[df['internet_access'] == 'ADSL']\n",
    "dialup = df[df['internet_access'] == 'Dial-up']\n",
    "wimax = df[df['internet_access'] == 'Wimax']"
   ]
  },
  {
   "cell_type": "code",
   "execution_count": null,
   "metadata": {},
   "outputs": [],
   "source": [
    "for col in df.select_dtypes(float):\n",
    "    if(col != 'price'):\n",
    "        plt.figure(figsize=(20,10))\n",
    "        sns.distplot(fibre[col],color='b',label='fibre')\n",
    "        sns.distplot(satellite[col],label='satellite')\n",
    "        sns.distplot(adsl[col],label='adsl')\n",
    "        sns.distplot(dialup[col],label='dialup')\n",
    "        sns.distplot(wimax[col],label='wimax')\n",
    "\n",
    "        plt.legend()"
   ]
  },
  {
   "cell_type": "markdown",
   "metadata": {},
   "source": [
    "- aucun rapport entre le nombre de erf size et le type d'internet\n",
    "- la floor size des maisons avec dialup est proche de nulle  \n",
    "- aucun rapport entre taxes et type d'internet\n"
   ]
  },
  {
   "cell_type": "markdown",
   "metadata": {},
   "source": [
    "#### Relation variables discrètes/variables continues"
   ]
  },
  {
   "cell_type": "code",
   "execution_count": null,
   "metadata": {},
   "outputs": [],
   "source": [
    "for col in df.select_dtypes(float):\n",
    "    if(col != 'price') & (col != 'longitude') & (col != 'latitude'):\n",
    "        for cat in df.select_dtypes(object):\n",
    "            if(cat != 'property_type') & (cat != 'internet_access') & (cat != 'street_address') & (cat != 'location'):\n",
    "                with_ = df[(df[cat] == \"Yes\")]\n",
    "                no_ = df[(df[cat] == \"No\")]\n",
    "                plt.figure(figsize=(20,10))\n",
    "                sns.distplot(with_[col],color='r',label='with')\n",
    "                sns.distplot(no_[col],color='b',label='no')\n",
    "                plt.title(f\"{col} by {cat}\")\n",
    "\n",
    "                plt.legend()"
   ]
  },
  {
   "cell_type": "markdown",
   "metadata": {},
   "source": [
    "#### Relation variables discrètes/variables discrètes"
   ]
  },
  {
   "cell_type": "code",
   "execution_count": null,
   "metadata": {},
   "outputs": [],
   "source": [
    "for col in df.select_dtypes(object):\n",
    "    plt.figure()\n",
    "    if (col != 'street_address') & (col != 'location'):\n",
    "        sns.heatmap(pd.crosstab(df[col],df['property_type']),annot=True,fmt=\"d\")"
   ]
  },
  {
   "cell_type": "code",
   "execution_count": null,
   "metadata": {},
   "outputs": [],
   "source": [
    "for col in df.select_dtypes(object):\n",
    "    plt.figure()\n",
    "    if (col != 'street_address') & (col != 'property_type') & (col != 'location'):\n",
    "        sns.heatmap(pd.crosstab(df[col],df['garage']),annot=True,fmt=\"d\")"
   ]
  },
  {
   "cell_type": "code",
   "execution_count": null,
   "metadata": {},
   "outputs": [],
   "source": [
    "for col in df.select_dtypes(object):\n",
    "    plt.figure()\n",
    "    if (col != 'street_address') & (col != 'property_type') & (col != 'garage')& (col != 'location'):\n",
    "        sns.heatmap(pd.crosstab(df[col],df['parking']),annot=True,fmt=\"d\")"
   ]
  },
  {
   "cell_type": "code",
   "execution_count": null,
   "metadata": {},
   "outputs": [],
   "source": [
    "for col in df.select_dtypes(object):\n",
    "    plt.figure()\n",
    "    if(col != 'street_address') & (col != 'property_type') & (col != 'garage') & (col != 'parking')& (col != 'location') :\n",
    "        sns.heatmap(pd.crosstab(df[col],df['garden']),annot=True,fmt=\"d\")"
   ]
  },
  {
   "cell_type": "code",
   "execution_count": null,
   "metadata": {},
   "outputs": [],
   "source": [
    "for col in df.select_dtypes(object):\n",
    "    plt.figure()\n",
    "    if(col != 'street_address') & (col != 'property_type') & (col != 'garage') & (col != 'parking') & (col != 'garden')& (col != 'location'):\n",
    "        sns.heatmap(pd.crosstab(df[col],df['pool']),annot=True,fmt=\"d\")"
   ]
  },
  {
   "cell_type": "code",
   "execution_count": null,
   "metadata": {},
   "outputs": [],
   "source": [
    "for col in df.select_dtypes(object):\n",
    "    plt.figure()\n",
    "    if(col != 'street_address') & (col != 'property_type') & (col != 'garage') & (col != 'parking') & (col != 'garden') & (col != 'pool')& (col != 'location'):\n",
    "        sns.heatmap(pd.crosstab(df[col],df['internet_access']),annot=True,fmt=\"d\")"
   ]
  },
  {
   "cell_type": "code",
   "execution_count": null,
   "metadata": {},
   "outputs": [],
   "source": [
    "for col in df.select_dtypes(object):\n",
    "    plt.figure()\n",
    "    if(col != 'street_address') & (col != 'property_type') & (col != 'garage') & (col != 'parking') & (col != 'garden') & (col != 'pool') & (col != 'internet_access')& (col != 'location'):\n",
    "        sns.heatmap(pd.crosstab(df[col],df['no_transfer_duty']),annot=True,fmt=\"d\")"
   ]
  },
  {
   "cell_type": "code",
   "execution_count": null,
   "metadata": {},
   "outputs": [],
   "source": [
    "for col in df.select_dtypes(object):\n",
    "    plt.figure()\n",
    "    if(col != 'street_address') & (col != 'property_type') & (col != 'garage') & (col != 'parking') & (col != 'garden') & (col != 'pool') & (col != 'internet_access') & (col != 'no_transfer_duty')& (col != 'location'):\n",
    "        sns.heatmap(pd.crosstab(df[col],df['pets_allowed']),annot=True,fmt=\"d\")"
   ]
  },
  {
   "cell_type": "code",
   "execution_count": null,
   "metadata": {},
   "outputs": [],
   "source": [
    "for col in df:\n",
    "    #if (col != 'property_type') & (col != 'price') & (col != 'area_size'):\n",
    "    plt.figure(figsize=(12,8))\n",
    "    sns.boxplot(x=col,y='price',data=df,palette='rainbow')"
   ]
  },
  {
   "cell_type": "markdown",
   "metadata": {},
   "source": [
    "## PREPROCESSING"
   ]
  },
  {
   "cell_type": "code",
   "execution_count": null,
   "metadata": {},
   "outputs": [],
   "source": [
    "df1 = data.copy()\n",
    "df1.head()"
   ]
  },
  {
   "cell_type": "code",
   "execution_count": null,
   "metadata": {},
   "outputs": [],
   "source": [
    "key_columns = ['price','erf_size','floor_size','rates_and_taxes','property_type','bedrooms','bathrooms','kitchens','garage','parking','garden','pool','internet_access','pets_allowed','latitude','longitude']"
   ]
  },
  {
   "cell_type": "code",
   "execution_count": null,
   "metadata": {},
   "outputs": [],
   "source": [
    "df1 = df1[key_columns]"
   ]
  },
  {
   "cell_type": "code",
   "execution_count": null,
   "metadata": {},
   "outputs": [],
   "source": [
    "df1.head()"
   ]
  },
  {
   "cell_type": "markdown",
   "metadata": {},
   "source": [
    "### TrainTest-Nettoyage-Encodage"
   ]
  },
  {
   "cell_type": "markdown",
   "metadata": {},
   "source": [
    "#### TrainTest"
   ]
  },
  {
   "cell_type": "code",
   "execution_count": null,
   "metadata": {},
   "outputs": [],
   "source": [
    "from sklearn.model_selection import train_test_split\n",
    "from sklearn.preprocessing import LabelBinarizer\n",
    "from sklearn.preprocessing import OneHotEncoder\n",
    "from sklearn.preprocessing import LabelEncoder\n",
    "from sklearn.impute import SimpleImputer"
   ]
  },
  {
   "cell_type": "code",
   "execution_count": null,
   "metadata": {},
   "outputs": [],
   "source": [
    "trainset,testset = train_test_split(df1,test_size=0.2,random_state=0)"
   ]
  },
  {
   "cell_type": "code",
   "execution_count": null,
   "metadata": {},
   "outputs": [],
   "source": [
    "trainset.shape"
   ]
  },
  {
   "cell_type": "code",
   "execution_count": null,
   "metadata": {},
   "outputs": [],
   "source": [
    "testset.shape"
   ]
  },
  {
   "cell_type": "code",
   "execution_count": null,
   "metadata": {},
   "outputs": [],
   "source": [
    "df1.head()"
   ]
  },
  {
   "cell_type": "markdown",
   "metadata": {},
   "source": [
    "#### Encodage"
   ]
  },
  {
   "cell_type": "code",
   "execution_count": null,
   "metadata": {},
   "outputs": [],
   "source": [
    "def encodage(df):\n",
    "    encoder = OneHotEncoder()\n",
    "    encoder_df = pd.DataFrame(encoder.fit_transform(df[['property_type']]).toarray())\n",
    "    df = df.join(encoder_df)\n",
    "    df.columns = ['price', 'erf_size', 'floor_size', 'rates_and_taxes','property_type','bedrooms','bathrooms','kitchens','garage','parking','garden','pool','internet_access','pets_allowed','latitude','longitude','house','apartment','townhouse']\n",
    "    df = df.drop('property_type',axis=1)\n",
    "\n",
    "    return df\n",
    "\n",
    "def encodage_1(df):\n",
    "    code = {\n",
    "        'No':0,\n",
    "        'Yes':1,\n",
    "        'Fibre':0,\n",
    "        'Satellite':1,\n",
    "        'ADSL':2,\n",
    "        'Dial-up':3,\n",
    "        'Wimax':4\n",
    "    }\n",
    "    for col in df.select_dtypes(object):\n",
    "        df.loc[:,col] = df[col].map(code)\n",
    "    return df\n",
    "\n",
    "def encodage_2(df):\n",
    "    for col in df.select_dtypes(float):\n",
    "        df[col] = np.log(df[col])"
   ]
  },
  {
   "cell_type": "code",
   "execution_count": null,
   "metadata": {},
   "outputs": [],
   "source": [
    "def imputation(df):\n",
    "    df.fillna(df.median(), inplace=True)\n",
    "    return df #dropna(axis=0)"
   ]
  },
  {
   "cell_type": "code",
   "execution_count": null,
   "metadata": {},
   "outputs": [],
   "source": [
    "def preprocessing(df):\n",
    "    df = encodage(df)\n",
    "    df = encodage_1(df)\n",
    "    \n",
    "    df = imputation(df)\n",
    "    #df = encodage_2(df)\n",
    "    \n",
    "    X = df.drop('price',axis=1)\n",
    "    y = df['price']\n",
    "    print(y.shape)\n",
    "    return X,y"
   ]
  },
  {
   "cell_type": "code",
   "execution_count": null,
   "metadata": {},
   "outputs": [],
   "source": [
    "X_train,y_train = preprocessing(trainset)"
   ]
  },
  {
   "cell_type": "code",
   "execution_count": null,
   "metadata": {},
   "outputs": [],
   "source": [
    "X_test,y_test = preprocessing(testset)"
   ]
  },
  {
   "cell_type": "markdown",
   "metadata": {},
   "source": [
    "## MODELISATION"
   ]
  },
  {
   "cell_type": "code",
   "execution_count": null,
   "metadata": {},
   "outputs": [],
   "source": [
    "from sklearn.tree import DecisionTreeRegressor\n",
    "from sklearn.ensemble import RandomForestRegressor, GradientBoostingRegressor, AdaBoostRegressor\n",
    "from sklearn.pipeline import make_pipeline\n",
    "from sklearn.neighbors import KNeighborsRegressor\n",
    "from sklearn.svm import SVR\n",
    "from sklearn.feature_selection import SelectKBest,f_regression,mutual_info_regression\n",
    "from sklearn.preprocessing import RobustScaler,PolynomialFeatures\n",
    "from xgboost import XGBRegressor\n",
    "from sklearn.model_selection import cross_val_score"
   ]
  },
  {
   "cell_type": "code",
   "execution_count": null,
   "metadata": {},
   "outputs": [],
   "source": [
    "preprocessor = make_pipeline(PolynomialFeatures(3),RobustScaler(),SelectKBest(mutual_info_regression,k=15))"
   ]
  },
  {
   "cell_type": "markdown",
   "metadata": {},
   "source": [
    "### Procédure d'évaluation"
   ]
  },
  {
   "cell_type": "code",
   "execution_count": null,
   "metadata": {},
   "outputs": [],
   "source": [
    "from sklearn.metrics import *\n",
    "from sklearn.model_selection import learning_curve"
   ]
  },
  {
   "cell_type": "code",
   "execution_count": null,
   "metadata": {},
   "outputs": [],
   "source": [
    "def evaluation(model):\n",
    "    model.fit(X_train,y_train)\n",
    "    val_score = cross_val_score(model,X_train,y_train,scoring='r2',cv=4)\n",
    "    #print('score:',model.score(X_train,y_train))\n",
    "    print('Validation error:',val_score.mean())\n",
    "\n",
    "    \n",
    "    \"\"\"N,train_score,val_score = learning_curve(model,X_train,y_train,\n",
    "                                             cv=4,scoring='r2',\n",
    "                                            train_sizes=np.linspace(0.1,1,10))\n",
    "    plt.figure(figsize=(10,5))\n",
    "    plt.plot(N,train_score.mean(axis=1),label='train_score')\n",
    "    plt.plot(N,val_score.mean(axis=1),label='val_score')\n",
    "    plt.legend()\"\"\""
   ]
  },
  {
   "cell_type": "code",
   "execution_count": null,
   "metadata": {},
   "outputs": [],
   "source": [
    "RandomForest = make_pipeline(preprocessor,RandomForestRegressor(random_state=0))\n",
    "KNN = make_pipeline(preprocessor,KNeighborsRegressor())\n",
    "GradientBoost = make_pipeline(preprocessor,GradientBoostingRegressor(random_state=0))\n",
    "AdaBoost = make_pipeline(preprocessor,AdaBoostRegressor(random_state=0))\n",
    "SVR = make_pipeline(preprocessor,SVR(kernel='poly'))\n",
    "XGBoost = make_pipeline(preprocessor,XGBRegressor())"
   ]
  },
  {
   "cell_type": "code",
   "execution_count": null,
   "metadata": {},
   "outputs": [],
   "source": [
    "dict_of_models = {\n",
    "                   'RandomForest': RandomForest,\n",
    "                   'KNN': KNN,\n",
    "                   'GradientBoost': GradientBoost,\n",
    "                   'AdaBoost': AdaBoost,\n",
    "                   'XGBoost': XGBoost\n",
    "                 }"
   ]
  },
  {
   "cell_type": "code",
   "execution_count": null,
   "metadata": {
    "scrolled": false
   },
   "outputs": [],
   "source": [
    "for name,model in dict_of_models.items():\n",
    "    print(name)\n",
    "    evaluation(model)"
   ]
  },
  {
   "cell_type": "markdown",
   "metadata": {},
   "source": [
    "## OPTIMISATION"
   ]
  },
  {
   "cell_type": "code",
   "execution_count": null,
   "metadata": {},
   "outputs": [],
   "source": [
    "from sklearn.model_selection import GridSearchCV, RandomizedSearchCV"
   ]
  },
  {
   "cell_type": "code",
   "execution_count": null,
   "metadata": {},
   "outputs": [],
   "source": [
    "hyper_params = {\n",
    "    'gradientboostingregressor__n_estimators': [500,1000,2000],\n",
    "    'gradientboostingregressor__learning_rate':[0.001,0.01,0.1],\n",
    "    'gradientboostingregressor__max_depth': [1,2,4],\n",
    "    'gradientboostingregressor__subsample':[0.5,0.75,1],\n",
    "}\n",
    "grid = GridSearchCV(GradientBoost,hyper_params,scoring='r2',n_jobs=1,cv=4)\n",
    "\n",
    "grid.fit(X_train,y_train)"
   ]
  },
  {
   "cell_type": "code",
   "execution_count": null,
   "metadata": {},
   "outputs": [],
   "source": [
    "print(grid.best_params_)\n",
    "\n",
    "print(grid.best_estimator_.score(X_test,y_test))"
   ]
  },
  {
   "cell_type": "code",
   "execution_count": null,
   "metadata": {},
   "outputs": [],
   "source": [
    "GradientBoost.score(X_test,y_test)"
   ]
  },
  {
   "cell_type": "code",
   "execution_count": null,
   "metadata": {},
   "outputs": [],
   "source": [
    "RandomForest.score(X_test,y_test)"
   ]
  },
  {
   "cell_type": "code",
   "execution_count": null,
   "metadata": {},
   "outputs": [],
   "source": []
  }
 ],
 "metadata": {
  "kernelspec": {
   "display_name": "Python 3",
   "language": "python",
   "name": "python3"
  },
  "language_info": {
   "codemirror_mode": {
    "name": "ipython",
    "version": 3
   },
   "file_extension": ".py",
   "mimetype": "text/x-python",
   "name": "python",
   "nbconvert_exporter": "python",
   "pygments_lexer": "ipython3",
   "version": "3.8.5"
  }
 },
 "nbformat": 4,
 "nbformat_minor": 5
}
